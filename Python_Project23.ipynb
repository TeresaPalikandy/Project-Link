{
  "nbformat": 4,
  "nbformat_minor": 0,
  "metadata": {
    "colab": {
      "provenance": [],
      "authorship_tag": "ABX9TyNfjZRCHoUB5jh+D4PU9XE1",
      "include_colab_link": true
    },
    "kernelspec": {
      "name": "python3",
      "display_name": "Python 3"
    },
    "language_info": {
      "name": "python"
    }
  },
  "cells": [
    {
      "cell_type": "markdown",
      "metadata": {
        "id": "view-in-github",
        "colab_type": "text"
      },
      "source": [
        "<a href=\"https://colab.research.google.com/github/TeresaPalikandy/Project-Link/blob/main/Python_Project23.ipynb\" target=\"_parent\"><img src=\"https://colab.research.google.com/assets/colab-badge.svg\" alt=\"Open In Colab\"/></a>"
      ]
    },
    {
      "cell_type": "code",
      "source": [
        "class item:\n",
        "    def __init__(self , id , itemName , price):\n",
        "        self.id = id\n",
        "        self.itemName = itemName\n",
        "        self.price = price\n",
        "# in this code we have taken class item"
      ],
      "metadata": {
        "id": "gz_lWukAg_8M"
      },
      "execution_count": 12,
      "outputs": []
    },
    {
      "cell_type": "code",
      "source": [
        "def display(l , cName , cAddress):\n",
        "    total = 0\n",
        "    print(\"\\n\\n\\n\")\n",
        "    print(\"\\t   Catmosphere Cat Store    \")#\\t is used to insert a tab character, which typically results in an indentation or spacing effect when the string is displayed.\n",
        "    print(\"\\t   --------------    \")#prints separator line\n",
        "    print(f\"Name : {cName} \\t Address : {cAddress}\\n\")#print cx name and address\n",
        "    for obj in l:\n",
        "        print(f\"Id : {obj.id} \\t ItemName : {obj.itemName}\\tPrice : {obj.price}\")\n",
        "        # prints a line of information containing the ID, item name, and price\n",
        "        print(\"------------------------------------------------\")#separator line\n",
        "        total += obj.price#Adds the price of the current item to the total.\n",
        "    print(f\"\\t\\tTotal : {total}\")\n",
        "    print(\"\\n\")\n",
        "    print(\"\\tThanks for visiting\")\n",
        "    print(\"\\n\\n\")\n",
        "\n"
      ],
      "metadata": {
        "id": "sBBVx8QAhCcL"
      },
      "execution_count": 19,
      "outputs": []
    },
    {
      "cell_type": "code",
      "source": [
        "pip install colorama"
      ],
      "metadata": {
        "colab": {
          "base_uri": "https://localhost:8080/"
        },
        "id": "lbE3DUzyqErI",
        "outputId": "a4b79331-1a06-4912-cca7-4f2f5e5929a0"
      },
      "execution_count": 15,
      "outputs": [
        {
          "output_type": "stream",
          "name": "stdout",
          "text": [
            "Requirement already satisfied: colorama in /usr/local/lib/python3.10/dist-packages (0.4.6)\n"
          ]
        }
      ]
    },
    {
      "cell_type": "code",
      "source": [
        "from colorama import init, Fore, Style\n",
        "\n",
        "# Initialize colorama\n",
        "init(autoreset=True)\n",
        "\n",
        "# Original print statement\n",
        "title = \"\\t    Catmosphere Cat Store    \"\n",
        "\n",
        "# Print the title with color\n",
        "print(f\"{Fore.RED}{title}{Style.RESET_ALL}\")\n"
      ],
      "metadata": {
        "colab": {
          "base_uri": "https://localhost:8080/"
        },
        "id": "cFOzbZ8iqGOr",
        "outputId": "62e5c7be-0c3d-4a3b-f5ef-0be63bb1d804"
      },
      "execution_count": 20,
      "outputs": [
        {
          "output_type": "stream",
          "name": "stdout",
          "text": [
            "\t    Catmosphere Cat Store    \n"
          ]
        }
      ]
    },
    {
      "cell_type": "code",
      "source": [
        "# store object array\n",
        "list = []  #empty list\n",
        "\n",
        "print(\"\\n\\n\")#for printing 2 new lines\n",
        "print(\"Welcome to Catmosphere store\")\n",
        "cName = input(\"Enter your name       \")\n",
        "cAddress = input(\"Enter your address    \")\n",
        "totalItems = int(input(\"Enter total items    \"))\n",
        "print(\"\\n\")\n",
        "#basically we will prompt user to enter all his details\n",
        "\n",
        "# take input item details\n",
        "for i in range(0 , totalItems):\n",
        "    id = (i+1)#this will calculate the item ID based on the loop index i. The IDs start from 1.\n",
        "    name = input(\"Enter item name     \")\n",
        "    price = int(input(\"Enter price    \"))\n",
        "    list.append(item(id , name , price))\n",
        "\n",
        "#call display function\n",
        "display(list , cName , cAddress)\n",
        "\n",
        "\n",
        "\n",
        "\n"
      ],
      "metadata": {
        "colab": {
          "base_uri": "https://localhost:8080/"
        },
        "id": "QGbToJKnr1Xc",
        "outputId": "f2d70d22-b0ca-4fd5-a0cd-ec0005de051f"
      },
      "execution_count": 21,
      "outputs": [
        {
          "output_type": "stream",
          "name": "stdout",
          "text": [
            "\n",
            "\n",
            "\n",
            "Welcome to Catmosphere store\n",
            "Enter your name       Teresa Palikandy\n",
            "Enter your address    6,301,wadoansheri, pune\n",
            "Enter total items    5\n",
            "\n",
            "\n",
            "Enter item name     Harness\n",
            "Enter price    500\n",
            "Enter item name     Myra cat litter\n",
            "Enter price    1000\n",
            "Enter item name     Stainless steel bowl\n",
            "Enter price    650\n",
            "Enter item name     Drools dry food\n",
            "Enter price    880\n",
            "Enter item name     Mouse cat toy\n",
            "Enter price    440\n",
            "\n",
            "\n",
            "\n",
            "\n",
            "\t   Catmosphere Cat Store    \n",
            "\t   --------------    \n",
            "Name : Teresa Palikandy \t Address : 6,301,wadoansheri, pune\n",
            "\n",
            "Id : 1 \t ItemName : Harness\tPrice : 500\n",
            "------------------------------------------------\n",
            "Id : 2 \t ItemName : Myra cat litter\tPrice : 1000\n",
            "------------------------------------------------\n",
            "Id : 3 \t ItemName : Stainless steel bowl\tPrice : 650\n",
            "------------------------------------------------\n",
            "Id : 4 \t ItemName : Drools dry food\tPrice : 880\n",
            "------------------------------------------------\n",
            "Id : 5 \t ItemName : Mouse cat toy\tPrice : 440\n",
            "------------------------------------------------\n",
            "\t\tTotal : 3470\n",
            "\n",
            "\n",
            "\tThanks for visiting\n",
            "\n",
            "\n",
            "\n"
          ]
        }
      ]
    },
    {
      "cell_type": "code",
      "source": [
        ""
      ],
      "metadata": {
        "id": "GHPJ6VLip78N"
      },
      "execution_count": null,
      "outputs": []
    },
    {
      "cell_type": "code",
      "source": [],
      "metadata": {
        "id": "zZ7OfQZjhCg8"
      },
      "execution_count": null,
      "outputs": []
    },
    {
      "cell_type": "code",
      "source": [],
      "metadata": {
        "id": "akOTm89YhCjc"
      },
      "execution_count": null,
      "outputs": []
    },
    {
      "cell_type": "code",
      "source": [],
      "metadata": {
        "id": "OYlh_7MQhCoJ"
      },
      "execution_count": null,
      "outputs": []
    },
    {
      "cell_type": "code",
      "source": [],
      "metadata": {
        "id": "_FEbeUBDhCrp"
      },
      "execution_count": null,
      "outputs": []
    }
  ]
}