{
  "nbformat": 4,
  "nbformat_minor": 0,
  "metadata": {
    "colab": {
      "provenance": [],
      "authorship_tag": "ABX9TyPSaSzbCM0WIvv4KFTvDbeW",
      "include_colab_link": true
    },
    "kernelspec": {
      "name": "ir",
      "display_name": "R"
    },
    "language_info": {
      "name": "R"
    }
  },
  "cells": [
    {
      "cell_type": "markdown",
      "metadata": {
        "id": "view-in-github",
        "colab_type": "text"
      },
      "source": [
        "<a href=\"https://colab.research.google.com/github/TeresaPalikandy/Project-Link/blob/main/R_project.ipynb\" target=\"_parent\"><img src=\"https://colab.research.google.com/assets/colab-badge.svg\" alt=\"Open In Colab\"/></a>"
      ]
    },
    {
      "cell_type": "code",
      "execution_count": null,
      "metadata": {
        "colab": {
          "base_uri": "https://localhost:8080/"
        },
        "id": "Ovd-wtMfAl5I",
        "outputId": "98797016-6ce6-4413-b271-30545fab059a"
      },
      "outputs": [
        {
          "output_type": "stream",
          "name": "stderr",
          "text": [
            "Installing package into ‘/usr/local/lib/R/site-library’\n",
            "(as ‘lib’ is unspecified)\n",
            "\n"
          ]
        }
      ],
      "source": [
        "install.packages(\"readr\")"
      ]
    },
    {
      "cell_type": "code",
      "source": [
        "library(\"readr\")"
      ],
      "metadata": {
        "id": "ry2MeP4JCDuS"
      },
      "execution_count": null,
      "outputs": []
    },
    {
      "cell_type": "code",
      "source": [
        "df=read_tsv(\"/content/cars.csv\",col_names = TRUE)#tsv will read tab separated value"
      ],
      "metadata": {
        "colab": {
          "base_uri": "https://localhost:8080/",
          "height": 1000
        },
        "id": "KkkM3pMoCR6K",
        "outputId": "45bbbb8d-e735-4cb9-8272-a01fb01ffb4a"
      },
      "execution_count": null,
      "outputs": [
        {
          "output_type": "error",
          "ename": "ERROR",
          "evalue": "ignored",
          "traceback": [
            "Error: '/content/cars.csv' does not exist.\nTraceback:\n",
            "1. read_tsv(\"/content/cars.csv\", col_names = TRUE)",
            "2. vroom::vroom(file, delim = \"\\t\", col_names = col_names, col_types = col_types, \n .     col_select = {\n .         {\n .             col_select\n .         }\n .     }, id = id, .name_repair = name_repair, skip = skip, n_max = n_max, \n .     na = na, quote = quote, comment = comment, skip_empty_rows = skip_empty_rows, \n .     trim_ws = trim_ws, escape_double = TRUE, escape_backslash = FALSE, \n .     locale = locale, guess_max = guess_max, show_col_types = show_col_types, \n .     progress = progress, altrep = lazy, num_threads = num_threads)",
            "3. vroom_(file, delim = delim %||% col_types$delim, col_names = col_names, \n .     col_types = col_types, id = id, skip = skip, col_select = col_select, \n .     name_repair = .name_repair, na = na, quote = quote, trim_ws = trim_ws, \n .     escape_double = escape_double, escape_backslash = escape_backslash, \n .     comment = comment, skip_empty_rows = skip_empty_rows, locale = locale, \n .     guess_max = guess_max, n_max = n_max, altrep = vroom_altrep(altrep), \n .     num_threads = num_threads, progress = progress)",
            "4. (function (path, write = FALSE) \n . {\n .     if (is.raw(path)) {\n .         return(rawConnection(path, \"rb\"))\n .     }\n .     if (!is.character(path)) {\n .         return(path)\n .     }\n .     if (is_url(path)) {\n .         if (requireNamespace(\"curl\", quietly = TRUE)) {\n .             con <- curl::curl(path)\n .         }\n .         else {\n .             inform(\"`curl` package not installed, falling back to using `url()`\")\n .             con <- url(path)\n .         }\n .         ext <- tolower(tools::file_ext(path))\n .         return(switch(ext, zip = , bz2 = , xz = {\n .             close(con)\n .             stop(\"Reading from remote `\", ext, \"` compressed files is not supported,\\n\", \n .                 \"  download the files locally first.\", call. = FALSE)\n .         }, gz = gzcon(con), con))\n .     }\n .     path <- enc2utf8(path)\n .     p <- split_path_ext(basename_utf8(path))\n .     if (write) {\n .         path <- normalizePath_utf8(path, mustWork = FALSE)\n .     }\n .     else {\n .         path <- check_path(path)\n .     }\n .     if (is_installed(\"archive\")) {\n .         formats <- archive_formats(p$extension)\n .         extension <- p$extension\n .         while (is.null(formats) && nzchar(extension)) {\n .             extension <- split_path_ext(extension)$extension\n .             formats <- archive_formats(extension)\n .         }\n .         if (!is.null(formats)) {\n .             p$extension <- extension\n .             if (write) {\n .                 if (is.null(formats[[1]])) {\n .                   return(archive::file_write(path, filter = formats[[2]]))\n .                 }\n .                 return(archive::archive_write(path, p$path, format = formats[[1]], \n .                   filter = formats[[2]]))\n .             }\n .             if (is.null(formats[[1]])) {\n .                 return(archive::file_read(path, filter = formats[[2]]))\n .             }\n .             return(archive::archive_read(path, format = formats[[1]], \n .                 filter = formats[[2]]))\n .         }\n .     }\n .     if (!write) {\n .         compression <- detect_compression(path)\n .     }\n .     else {\n .         compression <- NA\n .     }\n .     if (is.na(compression)) {\n .         compression <- tools::file_ext(path)\n .     }\n .     if (write && compression == \"zip\") {\n .         stop(\"Can only read from, not write to, .zip\", call. = FALSE)\n .     }\n .     switch(compression, gz = gzfile(path, \"\"), bz2 = bzfile(path, \n .         \"\"), xz = xzfile(path, \"\"), zip = zipfile(path, \"\"), \n .         if (!has_trailing_newline(path)) {\n .             file(path)\n .         } else {\n .             path\n .         })\n . })(\"/content/cars.csv\")",
            "5. check_path(path)",
            "6. stop(\"'\", path, \"' does not exist\", if (!is_absolute_path(path)) {\n .     paste0(\" in current working directory ('\", getwd(), \"')\")\n . }, \".\", call. = FALSE)"
          ]
        }
      ]
    },
    {
      "cell_type": "code",
      "source": [
        "class(df)"
      ],
      "metadata": {
        "id": "dcfkaUglCftQ"
      },
      "execution_count": null,
      "outputs": []
    },
    {
      "cell_type": "code",
      "source": [
        "tail(df)"
      ],
      "metadata": {
        "id": "P5AuosBTEc-t"
      },
      "execution_count": null,
      "outputs": []
    },
    {
      "cell_type": "code",
      "source": [
        "df$Species<-\"Chaffinch\"\n",
        "df"
      ],
      "metadata": {
        "id": "dhL-la1fHBpc"
      },
      "execution_count": null,
      "outputs": []
    },
    {
      "cell_type": "code",
      "source": [
        "install.packages(\"writexl\")\n",
        "library(\"writexl\")"
      ],
      "metadata": {
        "id": "ZT5bazS0HT-8"
      },
      "execution_count": null,
      "outputs": []
    },
    {
      "cell_type": "code",
      "source": [
        "writexl::write_xlsx(df,\"newspecies.xlsx\")\n",
        "df"
      ],
      "metadata": {
        "id": "B7cw9GF4IhYs"
      },
      "execution_count": null,
      "outputs": []
    },
    {
      "cell_type": "code",
      "source": [
        "install.packages(\"dplyr\")\n",
        "library(\"dplyr\")"
      ],
      "metadata": {
        "id": "xExpvRGIgjhP",
        "colab": {
          "base_uri": "https://localhost:8080/"
        },
        "outputId": "9b74c16d-ae52-430e-833b-7e7b45ad8e7d"
      },
      "execution_count": null,
      "outputs": [
        {
          "output_type": "stream",
          "name": "stderr",
          "text": [
            "Installing package into ‘/usr/local/lib/R/site-library’\n",
            "(as ‘lib’ is unspecified)\n",
            "\n",
            "\n",
            "Attaching package: ‘dplyr’\n",
            "\n",
            "\n",
            "The following objects are masked from ‘package:stats’:\n",
            "\n",
            "    filter, lag\n",
            "\n",
            "\n",
            "The following objects are masked from ‘package:base’:\n",
            "\n",
            "    intersect, setdiff, setequal, union\n",
            "\n",
            "\n"
          ]
        }
      ]
    },
    {
      "cell_type": "code",
      "source": [
        "#creating a data frame with missing data\n",
        "\n",
        "df<- data.frame(name=c(\"Afreem\",NA,\"Milo\",\"Teresa\",NA,\"Rohit\"),\n",
        "                age=c(25,23,1,26,5,27),\n",
        "                python=c(80,80,80,72,NA,78),\n",
        "                R=c(89,79,NA,NA,80,80))"
      ],
      "metadata": {
        "id": "fRFs-576hVsH"
      },
      "execution_count": null,
      "outputs": []
    },
    {
      "cell_type": "code",
      "source": [
        "df"
      ],
      "metadata": {
        "id": "YzNRXv2Uhdup"
      },
      "execution_count": null,
      "outputs": []
    },
    {
      "cell_type": "code",
      "source": [
        "df %>% filter(is.na(R)) #we find  missing value"
      ],
      "metadata": {
        "id": "sqg1Fh3XhfkB"
      },
      "execution_count": null,
      "outputs": []
    },
    {
      "cell_type": "code",
      "source": [
        "df %>% filter(is.na(name))#will display null values"
      ],
      "metadata": {
        "id": "gQvCL2oxhiG2"
      },
      "execution_count": null,
      "outputs": []
    },
    {
      "cell_type": "code",
      "source": [
        "df %>% filter(is.na(python))"
      ],
      "metadata": {
        "id": "T9ta1akvh4ui"
      },
      "execution_count": null,
      "outputs": []
    },
    {
      "cell_type": "code",
      "source": [
        "df %>% filter(is.na(age))"
      ],
      "metadata": {
        "id": "nSvMGBp-iDGg"
      },
      "execution_count": null,
      "outputs": []
    },
    {
      "cell_type": "code",
      "source": [
        "df %>% filter(!is.na(name)) #! we can find not null values"
      ],
      "metadata": {
        "id": "Il-9sR-WiGjK"
      },
      "execution_count": null,
      "outputs": []
    },
    {
      "cell_type": "code",
      "source": [
        "sum(is.na(df)) #Total null values in df"
      ],
      "metadata": {
        "id": "80Nwxat9iLXd"
      },
      "execution_count": null,
      "outputs": []
    },
    {
      "cell_type": "code",
      "source": [
        "sum(is.na(df$python)) #check no of null value in name column"
      ],
      "metadata": {
        "id": "pBcofGAdiOui"
      },
      "execution_count": null,
      "outputs": []
    },
    {
      "cell_type": "code",
      "source": [
        "#arrange\n",
        "arrange(df,name)"
      ],
      "metadata": {
        "id": "7LcQo5uGiVLB"
      },
      "execution_count": null,
      "outputs": []
    },
    {
      "cell_type": "code",
      "source": [
        "arrange(df,age)"
      ],
      "metadata": {
        "id": "hBw8mGyWiY4j"
      },
      "execution_count": null,
      "outputs": []
    },
    {
      "cell_type": "code",
      "source": [
        "df$name"
      ],
      "metadata": {
        "id": "hyRmkXGLiknd"
      },
      "execution_count": null,
      "outputs": []
    },
    {
      "cell_type": "code",
      "source": [
        "df[1]"
      ],
      "metadata": {
        "id": "hNCbb0P6indh"
      },
      "execution_count": null,
      "outputs": []
    },
    {
      "cell_type": "code",
      "source": [
        "#select is for wildcard search\n",
        "select(df, starts_with(\"n\")) #display column starts with n"
      ],
      "metadata": {
        "id": "kAwFbknUisAw"
      },
      "execution_count": null,
      "outputs": []
    },
    {
      "cell_type": "code",
      "source": [
        "select(df, starts_with(\"p\"))"
      ],
      "metadata": {
        "id": "mYCdlw-BivlE"
      },
      "execution_count": null,
      "outputs": []
    },
    {
      "cell_type": "code",
      "source": [
        "select(df,-starts_with(\"a\")) #exclude col starts with a"
      ],
      "metadata": {
        "id": "zhZ43X7yizd1"
      },
      "execution_count": null,
      "outputs": []
    },
    {
      "cell_type": "code",
      "source": [
        "select(df, -starts_with(\"e\"))"
      ],
      "metadata": {
        "id": "1Sog1xV8i26Q"
      },
      "execution_count": null,
      "outputs": []
    },
    {
      "cell_type": "code",
      "source": [
        "select(df, contains(\"e\")) #this will give all column containing e"
      ],
      "metadata": {
        "id": "LOhxPit0i_rR"
      },
      "execution_count": null,
      "outputs": []
    },
    {
      "cell_type": "code",
      "source": [
        "select(df,matches(\"na\"))"
      ],
      "metadata": {
        "id": "JVAKXBbBjHiR"
      },
      "execution_count": null,
      "outputs": []
    },
    {
      "cell_type": "code",
      "source": [
        "select(df,matches(\"age\"))"
      ],
      "metadata": {
        "id": "u9BQ6KT9jLCK"
      },
      "execution_count": null,
      "outputs": []
    },
    {
      "cell_type": "code",
      "source": [
        "select(df,2:3) #will give 2nd and 3rd column"
      ],
      "metadata": {
        "id": "hme5n2CsjOWF"
      },
      "execution_count": null,
      "outputs": []
    },
    {
      "cell_type": "code",
      "source": [
        "df <- data.frame(\n",
        "  name = c(\"Afreem\", NA, \"Milo\", \"Teresa\", NA, \"Rohit\"),\n",
        "  age = c(25, 23, 1, 26, 5, 27),\n",
        "  python = c(80, 80, 80, 72, NA, 78),\n",
        "  R = c(89, 79, NA, NA, 80, 80),\n",
        "  background = c(\"tech\", \"bpo\", \"non-tech\", \"tech\", \"private\", \"govt\")\n",
        ")\n",
        "\n",
        "df\n"
      ],
      "metadata": {
        "id": "ag1S2sPkjU26"
      },
      "execution_count": null,
      "outputs": []
    },
    {
      "cell_type": "code",
      "source": [
        "df<-mutate(df,total=python+R)#append in existing\n",
        "df"
      ],
      "metadata": {
        "id": "336l5xEUjX0n"
      },
      "execution_count": null,
      "outputs": []
    },
    {
      "cell_type": "code",
      "source": [
        "mutate(df,percentage=total/2)"
      ],
      "metadata": {
        "id": "rkh8qwsbjaFl"
      },
      "execution_count": null,
      "outputs": []
    },
    {
      "cell_type": "code",
      "source": [
        "head(df,n=2)"
      ],
      "metadata": {
        "id": "9Wvaxndujnux"
      },
      "execution_count": null,
      "outputs": []
    },
    {
      "cell_type": "code",
      "source": [
        "tail(df,n=3)"
      ],
      "metadata": {
        "id": "dEs3JOuMjqJn"
      },
      "execution_count": null,
      "outputs": []
    },
    {
      "cell_type": "code",
      "source": [
        "sample_n(df,3) #no of sample"
      ],
      "metadata": {
        "id": "M3nkYF0bjs8u"
      },
      "execution_count": null,
      "outputs": []
    },
    {
      "cell_type": "code",
      "source": [
        "sample_frac(df,0.5)"
      ],
      "metadata": {
        "id": "fgmG8nSajvXa"
      },
      "execution_count": null,
      "outputs": []
    },
    {
      "cell_type": "code",
      "source": [
        "distinct(df) #will show unique data"
      ],
      "metadata": {
        "id": "Bmk2OMQljxnP"
      },
      "execution_count": null,
      "outputs": []
    },
    {
      "cell_type": "markdown",
      "source": [
        "DATA VISUALIZATION"
      ],
      "metadata": {
        "id": "LN9cTdX4kRdC"
      }
    },
    {
      "cell_type": "code",
      "source": [
        "data()"
      ],
      "metadata": {
        "id": "CYU5RQwnkT-7"
      },
      "execution_count": null,
      "outputs": []
    },
    {
      "cell_type": "code",
      "source": [
        "install.packages(\"dplyr\")"
      ],
      "metadata": {
        "colab": {
          "base_uri": "https://localhost:8080/"
        },
        "id": "tZnAvbST0xuh",
        "outputId": "6f54d915-a087-4a4a-b4dd-1449523afaca"
      },
      "execution_count": null,
      "outputs": [
        {
          "output_type": "stream",
          "name": "stderr",
          "text": [
            "Installing package into ‘/usr/local/lib/R/site-library’\n",
            "(as ‘lib’ is unspecified)\n",
            "\n"
          ]
        }
      ]
    },
    {
      "cell_type": "code",
      "source": [
        "library(dplyr)"
      ],
      "metadata": {
        "id": "TKP9WK612VQ1",
        "colab": {
          "base_uri": "https://localhost:8080/"
        },
        "outputId": "839cee5a-845d-49fe-8e9e-72a208181ef6"
      },
      "execution_count": null,
      "outputs": [
        {
          "output_type": "stream",
          "name": "stderr",
          "text": [
            "\n",
            "Attaching package: ‘dplyr’\n",
            "\n",
            "\n",
            "The following objects are masked from ‘package:stats’:\n",
            "\n",
            "    filter, lag\n",
            "\n",
            "\n",
            "The following objects are masked from ‘package:base’:\n",
            "\n",
            "    intersect, setdiff, setequal, union\n",
            "\n",
            "\n"
          ]
        }
      ]
    },
    {
      "cell_type": "code",
      "source": [
        "data<-morley"
      ],
      "metadata": {
        "id": "d4lFPpT_2xcV"
      },
      "execution_count": null,
      "outputs": []
    },
    {
      "cell_type": "code",
      "source": [
        "head(morley,n=2)"
      ],
      "metadata": {
        "colab": {
          "base_uri": "https://localhost:8080/",
          "height": 161
        },
        "id": "w2tKkkf-0Qbf",
        "outputId": "817eba50-f9e8-4c40-9ead-22cb4d78e7a4"
      },
      "execution_count": null,
      "outputs": [
        {
          "output_type": "display_data",
          "data": {
            "text/html": [
              "<table class=\"dataframe\">\n",
              "<caption>A data.frame: 2 × 3</caption>\n",
              "<thead>\n",
              "\t<tr><th></th><th scope=col>Expt</th><th scope=col>Run</th><th scope=col>Speed</th></tr>\n",
              "\t<tr><th></th><th scope=col>&lt;int&gt;</th><th scope=col>&lt;int&gt;</th><th scope=col>&lt;int&gt;</th></tr>\n",
              "</thead>\n",
              "<tbody>\n",
              "\t<tr><th scope=row>001</th><td>1</td><td>1</td><td>850</td></tr>\n",
              "\t<tr><th scope=row>002</th><td>1</td><td>2</td><td>740</td></tr>\n",
              "</tbody>\n",
              "</table>\n"
            ],
            "text/markdown": "\nA data.frame: 2 × 3\n\n| <!--/--> | Expt &lt;int&gt; | Run &lt;int&gt; | Speed &lt;int&gt; |\n|---|---|---|---|\n| 001 | 1 | 1 | 850 |\n| 002 | 1 | 2 | 740 |\n\n",
            "text/latex": "A data.frame: 2 × 3\n\\begin{tabular}{r|lll}\n  & Expt & Run & Speed\\\\\n  & <int> & <int> & <int>\\\\\n\\hline\n\t001 & 1 & 1 & 850\\\\\n\t002 & 1 & 2 & 740\\\\\n\\end{tabular}\n",
            "text/plain": [
              "    Expt Run Speed\n",
              "001 1    1   850  \n",
              "002 1    2   740  "
            ]
          },
          "metadata": {}
        }
      ]
    },
    {
      "cell_type": "code",
      "source": [
        "sample<- head(data)\n",
        "sample"
      ],
      "metadata": {
        "colab": {
          "base_uri": "https://localhost:8080/",
          "height": 286
        },
        "id": "JeFsWuCB1zTg",
        "outputId": "bcfdb83c-c2bd-42aa-911a-812eb0fcc343"
      },
      "execution_count": null,
      "outputs": [
        {
          "output_type": "display_data",
          "data": {
            "text/html": [
              "<table class=\"dataframe\">\n",
              "<caption>A data.frame: 6 × 3</caption>\n",
              "<thead>\n",
              "\t<tr><th></th><th scope=col>Expt</th><th scope=col>Run</th><th scope=col>Speed</th></tr>\n",
              "\t<tr><th></th><th scope=col>&lt;int&gt;</th><th scope=col>&lt;int&gt;</th><th scope=col>&lt;int&gt;</th></tr>\n",
              "</thead>\n",
              "<tbody>\n",
              "\t<tr><th scope=row>001</th><td>1</td><td>1</td><td> 850</td></tr>\n",
              "\t<tr><th scope=row>002</th><td>1</td><td>2</td><td> 740</td></tr>\n",
              "\t<tr><th scope=row>003</th><td>1</td><td>3</td><td> 900</td></tr>\n",
              "\t<tr><th scope=row>004</th><td>1</td><td>4</td><td>1070</td></tr>\n",
              "\t<tr><th scope=row>005</th><td>1</td><td>5</td><td> 930</td></tr>\n",
              "\t<tr><th scope=row>006</th><td>1</td><td>6</td><td> 850</td></tr>\n",
              "</tbody>\n",
              "</table>\n"
            ],
            "text/markdown": "\nA data.frame: 6 × 3\n\n| <!--/--> | Expt &lt;int&gt; | Run &lt;int&gt; | Speed &lt;int&gt; |\n|---|---|---|---|\n| 001 | 1 | 1 |  850 |\n| 002 | 1 | 2 |  740 |\n| 003 | 1 | 3 |  900 |\n| 004 | 1 | 4 | 1070 |\n| 005 | 1 | 5 |  930 |\n| 006 | 1 | 6 |  850 |\n\n",
            "text/latex": "A data.frame: 6 × 3\n\\begin{tabular}{r|lll}\n  & Expt & Run & Speed\\\\\n  & <int> & <int> & <int>\\\\\n\\hline\n\t001 & 1 & 1 &  850\\\\\n\t002 & 1 & 2 &  740\\\\\n\t003 & 1 & 3 &  900\\\\\n\t004 & 1 & 4 & 1070\\\\\n\t005 & 1 & 5 &  930\\\\\n\t006 & 1 & 6 &  850\\\\\n\\end{tabular}\n",
            "text/plain": [
              "    Expt Run Speed\n",
              "001 1    1    850 \n",
              "002 1    2    740 \n",
              "003 1    3    900 \n",
              "004 1    4   1070 \n",
              "005 1    5    930 \n",
              "006 1    6    850 "
            ]
          },
          "metadata": {}
        }
      ]
    },
    {
      "cell_type": "code",
      "source": [
        "sample %>% summarize_all(mean)"
      ],
      "metadata": {
        "colab": {
          "base_uri": "https://localhost:8080/",
          "height": 129
        },
        "id": "hnZC8YVn14tZ",
        "outputId": "7140e13d-6fc9-4205-927f-885d5c48699c"
      },
      "execution_count": null,
      "outputs": [
        {
          "output_type": "display_data",
          "data": {
            "text/html": [
              "<table class=\"dataframe\">\n",
              "<caption>A data.frame: 1 × 3</caption>\n",
              "<thead>\n",
              "\t<tr><th scope=col>Expt</th><th scope=col>Run</th><th scope=col>Speed</th></tr>\n",
              "\t<tr><th scope=col>&lt;dbl&gt;</th><th scope=col>&lt;dbl&gt;</th><th scope=col>&lt;dbl&gt;</th></tr>\n",
              "</thead>\n",
              "<tbody>\n",
              "\t<tr><td>1</td><td>3.5</td><td>890</td></tr>\n",
              "</tbody>\n",
              "</table>\n"
            ],
            "text/markdown": "\nA data.frame: 1 × 3\n\n| Expt &lt;dbl&gt; | Run &lt;dbl&gt; | Speed &lt;dbl&gt; |\n|---|---|---|\n| 1 | 3.5 | 890 |\n\n",
            "text/latex": "A data.frame: 1 × 3\n\\begin{tabular}{lll}\n Expt & Run & Speed\\\\\n <dbl> & <dbl> & <dbl>\\\\\n\\hline\n\t 1 & 3.5 & 890\\\\\n\\end{tabular}\n",
            "text/plain": [
              "  Expt Run Speed\n",
              "1 1    3.5 890  "
            ]
          },
          "metadata": {}
        }
      ]
    },
    {
      "cell_type": "code",
      "source": [
        "data$Speed"
      ],
      "metadata": {
        "colab": {
          "base_uri": "https://localhost:8080/",
          "height": 121
        },
        "id": "AvEJD4Jm2mwe",
        "outputId": "627cd249-1728-48f0-9e4e-7af3bfd5a7b6"
      },
      "execution_count": null,
      "outputs": [
        {
          "output_type": "display_data",
          "data": {
            "text/html": [
              "<style>\n",
              ".list-inline {list-style: none; margin:0; padding: 0}\n",
              ".list-inline>li {display: inline-block}\n",
              ".list-inline>li:not(:last-child)::after {content: \"\\00b7\"; padding: 0 .5ex}\n",
              "</style>\n",
              "<ol class=list-inline><li>850</li><li>740</li><li>900</li><li>1070</li><li>930</li><li>850</li><li>950</li><li>980</li><li>980</li><li>880</li><li>1000</li><li>980</li><li>930</li><li>650</li><li>760</li><li>810</li><li>1000</li><li>1000</li><li>960</li><li>960</li><li>960</li><li>940</li><li>960</li><li>940</li><li>880</li><li>800</li><li>850</li><li>880</li><li>900</li><li>840</li><li>830</li><li>790</li><li>810</li><li>880</li><li>880</li><li>830</li><li>800</li><li>790</li><li>760</li><li>800</li><li>880</li><li>880</li><li>880</li><li>860</li><li>720</li><li>720</li><li>620</li><li>860</li><li>970</li><li>950</li><li>880</li><li>910</li><li>850</li><li>870</li><li>840</li><li>840</li><li>850</li><li>840</li><li>840</li><li>840</li><li>890</li><li>810</li><li>810</li><li>820</li><li>800</li><li>770</li><li>760</li><li>740</li><li>750</li><li>760</li><li>910</li><li>920</li><li>890</li><li>860</li><li>880</li><li>720</li><li>840</li><li>850</li><li>850</li><li>780</li><li>890</li><li>840</li><li>780</li><li>810</li><li>760</li><li>810</li><li>790</li><li>810</li><li>820</li><li>850</li><li>870</li><li>870</li><li>810</li><li>740</li><li>810</li><li>940</li><li>950</li><li>800</li><li>810</li><li>870</li></ol>\n"
            ],
            "text/markdown": "1. 850\n2. 740\n3. 900\n4. 1070\n5. 930\n6. 850\n7. 950\n8. 980\n9. 980\n10. 880\n11. 1000\n12. 980\n13. 930\n14. 650\n15. 760\n16. 810\n17. 1000\n18. 1000\n19. 960\n20. 960\n21. 960\n22. 940\n23. 960\n24. 940\n25. 880\n26. 800\n27. 850\n28. 880\n29. 900\n30. 840\n31. 830\n32. 790\n33. 810\n34. 880\n35. 880\n36. 830\n37. 800\n38. 790\n39. 760\n40. 800\n41. 880\n42. 880\n43. 880\n44. 860\n45. 720\n46. 720\n47. 620\n48. 860\n49. 970\n50. 950\n51. 880\n52. 910\n53. 850\n54. 870\n55. 840\n56. 840\n57. 850\n58. 840\n59. 840\n60. 840\n61. 890\n62. 810\n63. 810\n64. 820\n65. 800\n66. 770\n67. 760\n68. 740\n69. 750\n70. 760\n71. 910\n72. 920\n73. 890\n74. 860\n75. 880\n76. 720\n77. 840\n78. 850\n79. 850\n80. 780\n81. 890\n82. 840\n83. 780\n84. 810\n85. 760\n86. 810\n87. 790\n88. 810\n89. 820\n90. 850\n91. 870\n92. 870\n93. 810\n94. 740\n95. 810\n96. 940\n97. 950\n98. 800\n99. 810\n100. 870\n\n\n",
            "text/latex": "\\begin{enumerate*}\n\\item 850\n\\item 740\n\\item 900\n\\item 1070\n\\item 930\n\\item 850\n\\item 950\n\\item 980\n\\item 980\n\\item 880\n\\item 1000\n\\item 980\n\\item 930\n\\item 650\n\\item 760\n\\item 810\n\\item 1000\n\\item 1000\n\\item 960\n\\item 960\n\\item 960\n\\item 940\n\\item 960\n\\item 940\n\\item 880\n\\item 800\n\\item 850\n\\item 880\n\\item 900\n\\item 840\n\\item 830\n\\item 790\n\\item 810\n\\item 880\n\\item 880\n\\item 830\n\\item 800\n\\item 790\n\\item 760\n\\item 800\n\\item 880\n\\item 880\n\\item 880\n\\item 860\n\\item 720\n\\item 720\n\\item 620\n\\item 860\n\\item 970\n\\item 950\n\\item 880\n\\item 910\n\\item 850\n\\item 870\n\\item 840\n\\item 840\n\\item 850\n\\item 840\n\\item 840\n\\item 840\n\\item 890\n\\item 810\n\\item 810\n\\item 820\n\\item 800\n\\item 770\n\\item 760\n\\item 740\n\\item 750\n\\item 760\n\\item 910\n\\item 920\n\\item 890\n\\item 860\n\\item 880\n\\item 720\n\\item 840\n\\item 850\n\\item 850\n\\item 780\n\\item 890\n\\item 840\n\\item 780\n\\item 810\n\\item 760\n\\item 810\n\\item 790\n\\item 810\n\\item 820\n\\item 850\n\\item 870\n\\item 870\n\\item 810\n\\item 740\n\\item 810\n\\item 940\n\\item 950\n\\item 800\n\\item 810\n\\item 870\n\\end{enumerate*}\n",
            "text/plain": [
              "  [1]  850  740  900 1070  930  850  950  980  980  880 1000  980  930  650  760\n",
              " [16]  810 1000 1000  960  960  960  940  960  940  880  800  850  880  900  840\n",
              " [31]  830  790  810  880  880  830  800  790  760  800  880  880  880  860  720\n",
              " [46]  720  620  860  970  950  880  910  850  870  840  840  850  840  840  840\n",
              " [61]  890  810  810  820  800  770  760  740  750  760  910  920  890  860  880\n",
              " [76]  720  840  850  850  780  890  840  780  810  760  810  790  810  820  850\n",
              " [91]  870  870  810  740  810  940  950  800  810  870"
            ]
          },
          "metadata": {}
        }
      ]
    },
    {
      "cell_type": "code",
      "source": [
        "sample<-head(data)\n",
        "sample %>% group_by(Speed) %>%\n",
        "summarise_at(c('Expt','Run'),mean)"
      ],
      "metadata": {
        "colab": {
          "base_uri": "https://localhost:8080/",
          "height": 255
        },
        "id": "UjwR3K_Z2yZT",
        "outputId": "35350b7a-6620-4fc0-bf10-97a926570898"
      },
      "execution_count": null,
      "outputs": [
        {
          "output_type": "display_data",
          "data": {
            "text/html": [
              "<table class=\"dataframe\">\n",
              "<caption>A tibble: 5 × 3</caption>\n",
              "<thead>\n",
              "\t<tr><th scope=col>Speed</th><th scope=col>Expt</th><th scope=col>Run</th></tr>\n",
              "\t<tr><th scope=col>&lt;int&gt;</th><th scope=col>&lt;dbl&gt;</th><th scope=col>&lt;dbl&gt;</th></tr>\n",
              "</thead>\n",
              "<tbody>\n",
              "\t<tr><td> 740</td><td>1</td><td>2.0</td></tr>\n",
              "\t<tr><td> 850</td><td>1</td><td>3.5</td></tr>\n",
              "\t<tr><td> 900</td><td>1</td><td>3.0</td></tr>\n",
              "\t<tr><td> 930</td><td>1</td><td>5.0</td></tr>\n",
              "\t<tr><td>1070</td><td>1</td><td>4.0</td></tr>\n",
              "</tbody>\n",
              "</table>\n"
            ],
            "text/markdown": "\nA tibble: 5 × 3\n\n| Speed &lt;int&gt; | Expt &lt;dbl&gt; | Run &lt;dbl&gt; |\n|---|---|---|\n|  740 | 1 | 2.0 |\n|  850 | 1 | 3.5 |\n|  900 | 1 | 3.0 |\n|  930 | 1 | 5.0 |\n| 1070 | 1 | 4.0 |\n\n",
            "text/latex": "A tibble: 5 × 3\n\\begin{tabular}{lll}\n Speed & Expt & Run\\\\\n <int> & <dbl> & <dbl>\\\\\n\\hline\n\t  740 & 1 & 2.0\\\\\n\t  850 & 1 & 3.5\\\\\n\t  900 & 1 & 3.0\\\\\n\t  930 & 1 & 5.0\\\\\n\t 1070 & 1 & 4.0\\\\\n\\end{tabular}\n",
            "text/plain": [
              "  Speed Expt Run\n",
              "1  740  1    2.0\n",
              "2  850  1    3.5\n",
              "3  900  1    3.0\n",
              "4  930  1    5.0\n",
              "5 1070  1    4.0"
            ]
          },
          "metadata": {}
        }
      ]
    },
    {
      "cell_type": "code",
      "source": [
        "sample %>% group_by(Run) %>%\n",
        "summarise_at(c('Speed','Expt'),mean)"
      ],
      "metadata": {
        "colab": {
          "base_uri": "https://localhost:8080/",
          "height": 286
        },
        "id": "fstiiG0V8UHh",
        "outputId": "94a9ea3f-0bbe-4f7b-a300-3fe3ac7edd7d"
      },
      "execution_count": null,
      "outputs": [
        {
          "output_type": "display_data",
          "data": {
            "text/html": [
              "<table class=\"dataframe\">\n",
              "<caption>A tibble: 6 × 3</caption>\n",
              "<thead>\n",
              "\t<tr><th scope=col>Run</th><th scope=col>Speed</th><th scope=col>Expt</th></tr>\n",
              "\t<tr><th scope=col>&lt;int&gt;</th><th scope=col>&lt;dbl&gt;</th><th scope=col>&lt;dbl&gt;</th></tr>\n",
              "</thead>\n",
              "<tbody>\n",
              "\t<tr><td>1</td><td> 850</td><td>1</td></tr>\n",
              "\t<tr><td>2</td><td> 740</td><td>1</td></tr>\n",
              "\t<tr><td>3</td><td> 900</td><td>1</td></tr>\n",
              "\t<tr><td>4</td><td>1070</td><td>1</td></tr>\n",
              "\t<tr><td>5</td><td> 930</td><td>1</td></tr>\n",
              "\t<tr><td>6</td><td> 850</td><td>1</td></tr>\n",
              "</tbody>\n",
              "</table>\n"
            ],
            "text/markdown": "\nA tibble: 6 × 3\n\n| Run &lt;int&gt; | Speed &lt;dbl&gt; | Expt &lt;dbl&gt; |\n|---|---|---|\n| 1 |  850 | 1 |\n| 2 |  740 | 1 |\n| 3 |  900 | 1 |\n| 4 | 1070 | 1 |\n| 5 |  930 | 1 |\n| 6 |  850 | 1 |\n\n",
            "text/latex": "A tibble: 6 × 3\n\\begin{tabular}{lll}\n Run & Speed & Expt\\\\\n <int> & <dbl> & <dbl>\\\\\n\\hline\n\t 1 &  850 & 1\\\\\n\t 2 &  740 & 1\\\\\n\t 3 &  900 & 1\\\\\n\t 4 & 1070 & 1\\\\\n\t 5 &  930 & 1\\\\\n\t 6 &  850 & 1\\\\\n\\end{tabular}\n",
            "text/plain": [
              "  Run Speed Expt\n",
              "1 1    850  1   \n",
              "2 2    740  1   \n",
              "3 3    900  1   \n",
              "4 4   1070  1   \n",
              "5 5    930  1   \n",
              "6 6    850  1   "
            ]
          },
          "metadata": {}
        }
      ]
    },
    {
      "cell_type": "code",
      "source": [
        "df=read.csv(\"/content/drinks.csv\")\n",
        "head(df,6)#display first six rows"
      ],
      "metadata": {
        "colab": {
          "base_uri": "https://localhost:8080/",
          "height": 323
        },
        "id": "pBfS5XKQ6AF_",
        "outputId": "3f8e81f4-8416-4482-c51f-51227a884a34"
      },
      "execution_count": null,
      "outputs": [
        {
          "output_type": "display_data",
          "data": {
            "text/html": [
              "<table class=\"dataframe\">\n",
              "<caption>A data.frame: 6 × 6</caption>\n",
              "<thead>\n",
              "\t<tr><th></th><th scope=col>country</th><th scope=col>beer_servings</th><th scope=col>spirit_servings</th><th scope=col>wine_servings</th><th scope=col>total_litres_of_pure_alcohol</th><th scope=col>continent</th></tr>\n",
              "\t<tr><th></th><th scope=col>&lt;chr&gt;</th><th scope=col>&lt;int&gt;</th><th scope=col>&lt;int&gt;</th><th scope=col>&lt;int&gt;</th><th scope=col>&lt;dbl&gt;</th><th scope=col>&lt;chr&gt;</th></tr>\n",
              "</thead>\n",
              "<tbody>\n",
              "\t<tr><th scope=row>1</th><td>Afghanistan      </td><td>  0</td><td>  0</td><td>  0</td><td> 0.0</td><td>Asia         </td></tr>\n",
              "\t<tr><th scope=row>2</th><td>Albania          </td><td> 89</td><td>132</td><td> 54</td><td> 4.9</td><td>Europe       </td></tr>\n",
              "\t<tr><th scope=row>3</th><td>Algeria          </td><td> 25</td><td>  0</td><td> 14</td><td> 0.7</td><td>Africa       </td></tr>\n",
              "\t<tr><th scope=row>4</th><td>Andorra          </td><td>245</td><td>138</td><td>312</td><td>12.4</td><td>Europe       </td></tr>\n",
              "\t<tr><th scope=row>5</th><td>Angola           </td><td>217</td><td> 57</td><td> 45</td><td> 5.9</td><td>Africa       </td></tr>\n",
              "\t<tr><th scope=row>6</th><td>Antigua &amp; Barbuda</td><td>102</td><td>128</td><td> 45</td><td> 4.9</td><td>North America</td></tr>\n",
              "</tbody>\n",
              "</table>\n"
            ],
            "text/markdown": "\nA data.frame: 6 × 6\n\n| <!--/--> | country &lt;chr&gt; | beer_servings &lt;int&gt; | spirit_servings &lt;int&gt; | wine_servings &lt;int&gt; | total_litres_of_pure_alcohol &lt;dbl&gt; | continent &lt;chr&gt; |\n|---|---|---|---|---|---|---|\n| 1 | Afghanistan       |   0 |   0 |   0 |  0.0 | Asia          |\n| 2 | Albania           |  89 | 132 |  54 |  4.9 | Europe        |\n| 3 | Algeria           |  25 |   0 |  14 |  0.7 | Africa        |\n| 4 | Andorra           | 245 | 138 | 312 | 12.4 | Europe        |\n| 5 | Angola            | 217 |  57 |  45 |  5.9 | Africa        |\n| 6 | Antigua &amp; Barbuda | 102 | 128 |  45 |  4.9 | North America |\n\n",
            "text/latex": "A data.frame: 6 × 6\n\\begin{tabular}{r|llllll}\n  & country & beer\\_servings & spirit\\_servings & wine\\_servings & total\\_litres\\_of\\_pure\\_alcohol & continent\\\\\n  & <chr> & <int> & <int> & <int> & <dbl> & <chr>\\\\\n\\hline\n\t1 & Afghanistan       &   0 &   0 &   0 &  0.0 & Asia         \\\\\n\t2 & Albania           &  89 & 132 &  54 &  4.9 & Europe       \\\\\n\t3 & Algeria           &  25 &   0 &  14 &  0.7 & Africa       \\\\\n\t4 & Andorra           & 245 & 138 & 312 & 12.4 & Europe       \\\\\n\t5 & Angola            & 217 &  57 &  45 &  5.9 & Africa       \\\\\n\t6 & Antigua \\& Barbuda & 102 & 128 &  45 &  4.9 & North America\\\\\n\\end{tabular}\n",
            "text/plain": [
              "  country           beer_servings spirit_servings wine_servings\n",
              "1 Afghanistan         0             0               0          \n",
              "2 Albania            89           132              54          \n",
              "3 Algeria            25             0              14          \n",
              "4 Andorra           245           138             312          \n",
              "5 Angola            217            57              45          \n",
              "6 Antigua & Barbuda 102           128              45          \n",
              "  total_litres_of_pure_alcohol continent    \n",
              "1  0.0                         Asia         \n",
              "2  4.9                         Europe       \n",
              "3  0.7                         Africa       \n",
              "4 12.4                         Europe       \n",
              "5  5.9                         Africa       \n",
              "6  4.9                         North America"
            ]
          },
          "metadata": {}
        }
      ]
    },
    {
      "cell_type": "code",
      "source": [
        "grp_tbl<- df %>% group_by(wine_servings) #creating group table\n",
        "grp_tbl"
      ],
      "metadata": {
        "colab": {
          "base_uri": "https://localhost:8080/",
          "height": 1000
        },
        "id": "lDmI4jyZ6N1k",
        "outputId": "01a3423f-e467-4226-d346-9722838317d7"
      },
      "execution_count": null,
      "outputs": [
        {
          "output_type": "display_data",
          "data": {
            "text/html": [
              "<table class=\"dataframe\">\n",
              "<caption>A grouped_df: 193 × 6</caption>\n",
              "<thead>\n",
              "\t<tr><th scope=col>country</th><th scope=col>beer_servings</th><th scope=col>spirit_servings</th><th scope=col>wine_servings</th><th scope=col>total_litres_of_pure_alcohol</th><th scope=col>continent</th></tr>\n",
              "\t<tr><th scope=col>&lt;chr&gt;</th><th scope=col>&lt;int&gt;</th><th scope=col>&lt;int&gt;</th><th scope=col>&lt;int&gt;</th><th scope=col>&lt;dbl&gt;</th><th scope=col>&lt;chr&gt;</th></tr>\n",
              "</thead>\n",
              "<tbody>\n",
              "\t<tr><td>Afghanistan       </td><td>  0</td><td>  0</td><td>  0</td><td> 0.0</td><td>Asia         </td></tr>\n",
              "\t<tr><td>Albania           </td><td> 89</td><td>132</td><td> 54</td><td> 4.9</td><td>Europe       </td></tr>\n",
              "\t<tr><td>Algeria           </td><td> 25</td><td>  0</td><td> 14</td><td> 0.7</td><td>Africa       </td></tr>\n",
              "\t<tr><td>Andorra           </td><td>245</td><td>138</td><td>312</td><td>12.4</td><td>Europe       </td></tr>\n",
              "\t<tr><td>Angola            </td><td>217</td><td> 57</td><td> 45</td><td> 5.9</td><td>Africa       </td></tr>\n",
              "\t<tr><td>Antigua &amp; Barbuda </td><td>102</td><td>128</td><td> 45</td><td> 4.9</td><td>North America</td></tr>\n",
              "\t<tr><td>Argentina         </td><td>193</td><td> 25</td><td>221</td><td> 8.3</td><td>South America</td></tr>\n",
              "\t<tr><td>Armenia           </td><td> 21</td><td>179</td><td> 11</td><td> 3.8</td><td>Europe       </td></tr>\n",
              "\t<tr><td>Australia         </td><td>261</td><td> 72</td><td>212</td><td>10.4</td><td>Oceania      </td></tr>\n",
              "\t<tr><td>Austria           </td><td>279</td><td> 75</td><td>191</td><td> 9.7</td><td>Europe       </td></tr>\n",
              "\t<tr><td>Azerbaijan        </td><td> 21</td><td> 46</td><td>  5</td><td> 1.3</td><td>Europe       </td></tr>\n",
              "\t<tr><td>Bahamas           </td><td>122</td><td>176</td><td> 51</td><td> 6.3</td><td>North America</td></tr>\n",
              "\t<tr><td>Bahrain           </td><td> 42</td><td> 63</td><td>  7</td><td> 2.0</td><td>Asia         </td></tr>\n",
              "\t<tr><td>Bangladesh        </td><td>  0</td><td>  0</td><td>  0</td><td> 0.0</td><td>Asia         </td></tr>\n",
              "\t<tr><td>Barbados          </td><td>143</td><td>173</td><td> 36</td><td> 6.3</td><td>North America</td></tr>\n",
              "\t<tr><td>Belarus           </td><td>142</td><td>373</td><td> 42</td><td>14.4</td><td>Europe       </td></tr>\n",
              "\t<tr><td>Belgium           </td><td>295</td><td> 84</td><td>212</td><td>10.5</td><td>Europe       </td></tr>\n",
              "\t<tr><td>Belize            </td><td>263</td><td>114</td><td>  8</td><td> 6.8</td><td>North America</td></tr>\n",
              "\t<tr><td>Benin             </td><td> 34</td><td>  4</td><td> 13</td><td> 1.1</td><td>Africa       </td></tr>\n",
              "\t<tr><td>Bhutan            </td><td> 23</td><td>  0</td><td>  0</td><td> 0.4</td><td>Asia         </td></tr>\n",
              "\t<tr><td>Bolivia           </td><td>167</td><td> 41</td><td>  8</td><td> 3.8</td><td>South America</td></tr>\n",
              "\t<tr><td>Bosnia-Herzegovina</td><td> 76</td><td>173</td><td>  8</td><td> 4.6</td><td>Europe       </td></tr>\n",
              "\t<tr><td>Botswana          </td><td>173</td><td> 35</td><td> 35</td><td> 5.4</td><td>Africa       </td></tr>\n",
              "\t<tr><td>Brazil            </td><td>245</td><td>145</td><td> 16</td><td> 7.2</td><td>South America</td></tr>\n",
              "\t<tr><td>Brunei            </td><td> 31</td><td>  2</td><td>  1</td><td> 0.6</td><td>Asia         </td></tr>\n",
              "\t<tr><td>Bulgaria          </td><td>231</td><td>252</td><td> 94</td><td>10.3</td><td>Europe       </td></tr>\n",
              "\t<tr><td>Burkina Faso      </td><td> 25</td><td>  7</td><td>  7</td><td> 4.3</td><td>Africa       </td></tr>\n",
              "\t<tr><td>Burundi           </td><td> 88</td><td>  0</td><td>  0</td><td> 6.3</td><td>Africa       </td></tr>\n",
              "\t<tr><td>Cote d'Ivoire     </td><td> 37</td><td>  1</td><td>  7</td><td> 4.0</td><td>Africa       </td></tr>\n",
              "\t<tr><td>Cabo Verde        </td><td>144</td><td> 56</td><td> 16</td><td> 4.0</td><td>Africa       </td></tr>\n",
              "\t<tr><td>⋮</td><td>⋮</td><td>⋮</td><td>⋮</td><td>⋮</td><td>⋮</td></tr>\n",
              "\t<tr><td>Suriname            </td><td>128</td><td>178</td><td>  7</td><td> 5.6</td><td>South America</td></tr>\n",
              "\t<tr><td>Swaziland           </td><td> 90</td><td>  2</td><td>  2</td><td> 4.7</td><td>Africa       </td></tr>\n",
              "\t<tr><td>Sweden              </td><td>152</td><td> 60</td><td>186</td><td> 7.2</td><td>Europe       </td></tr>\n",
              "\t<tr><td>Switzerland         </td><td>185</td><td>100</td><td>280</td><td>10.2</td><td>Europe       </td></tr>\n",
              "\t<tr><td>Syria               </td><td>  5</td><td> 35</td><td> 16</td><td> 1.0</td><td>Asia         </td></tr>\n",
              "\t<tr><td>Tajikistan          </td><td>  2</td><td> 15</td><td>  0</td><td> 0.3</td><td>Asia         </td></tr>\n",
              "\t<tr><td>Thailand            </td><td> 99</td><td>258</td><td>  1</td><td> 6.4</td><td>Asia         </td></tr>\n",
              "\t<tr><td>Macedonia           </td><td>106</td><td> 27</td><td> 86</td><td> 3.9</td><td>Europe       </td></tr>\n",
              "\t<tr><td>Timor-Leste         </td><td>  1</td><td>  1</td><td>  4</td><td> 0.1</td><td>Asia         </td></tr>\n",
              "\t<tr><td>Togo                </td><td> 36</td><td>  2</td><td> 19</td><td> 1.3</td><td>Africa       </td></tr>\n",
              "\t<tr><td>Tonga               </td><td> 36</td><td> 21</td><td>  5</td><td> 1.1</td><td>Oceania      </td></tr>\n",
              "\t<tr><td><span style=white-space:pre-wrap>Trinidad &amp; Tobago   </span></td><td>197</td><td>156</td><td><span style=white-space:pre-wrap>  7</span></td><td> 6.4</td><td>North America</td></tr>\n",
              "\t<tr><td>Tunisia             </td><td> 51</td><td>  3</td><td> 20</td><td> 1.3</td><td>Africa       </td></tr>\n",
              "\t<tr><td>Turkey              </td><td> 51</td><td> 22</td><td>  7</td><td> 1.4</td><td>Asia         </td></tr>\n",
              "\t<tr><td>Turkmenistan        </td><td> 19</td><td> 71</td><td> 32</td><td> 2.2</td><td>Asia         </td></tr>\n",
              "\t<tr><td>Tuvalu              </td><td>  6</td><td> 41</td><td>  9</td><td> 1.0</td><td>Oceania      </td></tr>\n",
              "\t<tr><td>Uganda              </td><td> 45</td><td>  9</td><td>  0</td><td> 8.3</td><td>Africa       </td></tr>\n",
              "\t<tr><td>Ukraine             </td><td>206</td><td>237</td><td> 45</td><td> 8.9</td><td>Europe       </td></tr>\n",
              "\t<tr><td>United Arab Emirates</td><td> 16</td><td>135</td><td>  5</td><td> 2.8</td><td>Asia         </td></tr>\n",
              "\t<tr><td>United Kingdom      </td><td>219</td><td>126</td><td>195</td><td>10.4</td><td>Europe       </td></tr>\n",
              "\t<tr><td>Tanzania            </td><td> 36</td><td>  6</td><td>  1</td><td> 5.7</td><td>Africa       </td></tr>\n",
              "\t<tr><td>USA                 </td><td>249</td><td>158</td><td> 84</td><td> 8.7</td><td>North America</td></tr>\n",
              "\t<tr><td>Uruguay             </td><td>115</td><td> 35</td><td>220</td><td> 6.6</td><td>South America</td></tr>\n",
              "\t<tr><td>Uzbekistan          </td><td> 25</td><td>101</td><td>  8</td><td> 2.4</td><td>Asia         </td></tr>\n",
              "\t<tr><td>Vanuatu             </td><td> 21</td><td> 18</td><td> 11</td><td> 0.9</td><td>Oceania      </td></tr>\n",
              "\t<tr><td>Venezuela           </td><td>333</td><td>100</td><td>  3</td><td> 7.7</td><td>South America</td></tr>\n",
              "\t<tr><td>Vietnam             </td><td>111</td><td>  2</td><td>  1</td><td> 2.0</td><td>Asia         </td></tr>\n",
              "\t<tr><td>Yemen               </td><td>  6</td><td>  0</td><td>  0</td><td> 0.1</td><td>Asia         </td></tr>\n",
              "\t<tr><td>Zambia              </td><td> 32</td><td> 19</td><td>  4</td><td> 2.5</td><td>Africa       </td></tr>\n",
              "\t<tr><td>Zimbabwe            </td><td> 64</td><td> 18</td><td>  4</td><td> 4.7</td><td>Africa       </td></tr>\n",
              "</tbody>\n",
              "</table>\n"
            ],
            "text/markdown": "\nA grouped_df: 193 × 6\n\n| country &lt;chr&gt; | beer_servings &lt;int&gt; | spirit_servings &lt;int&gt; | wine_servings &lt;int&gt; | total_litres_of_pure_alcohol &lt;dbl&gt; | continent &lt;chr&gt; |\n|---|---|---|---|---|---|\n| Afghanistan        |   0 |   0 |   0 |  0.0 | Asia          |\n| Albania            |  89 | 132 |  54 |  4.9 | Europe        |\n| Algeria            |  25 |   0 |  14 |  0.7 | Africa        |\n| Andorra            | 245 | 138 | 312 | 12.4 | Europe        |\n| Angola             | 217 |  57 |  45 |  5.9 | Africa        |\n| Antigua &amp; Barbuda  | 102 | 128 |  45 |  4.9 | North America |\n| Argentina          | 193 |  25 | 221 |  8.3 | South America |\n| Armenia            |  21 | 179 |  11 |  3.8 | Europe        |\n| Australia          | 261 |  72 | 212 | 10.4 | Oceania       |\n| Austria            | 279 |  75 | 191 |  9.7 | Europe        |\n| Azerbaijan         |  21 |  46 |   5 |  1.3 | Europe        |\n| Bahamas            | 122 | 176 |  51 |  6.3 | North America |\n| Bahrain            |  42 |  63 |   7 |  2.0 | Asia          |\n| Bangladesh         |   0 |   0 |   0 |  0.0 | Asia          |\n| Barbados           | 143 | 173 |  36 |  6.3 | North America |\n| Belarus            | 142 | 373 |  42 | 14.4 | Europe        |\n| Belgium            | 295 |  84 | 212 | 10.5 | Europe        |\n| Belize             | 263 | 114 |   8 |  6.8 | North America |\n| Benin              |  34 |   4 |  13 |  1.1 | Africa        |\n| Bhutan             |  23 |   0 |   0 |  0.4 | Asia          |\n| Bolivia            | 167 |  41 |   8 |  3.8 | South America |\n| Bosnia-Herzegovina |  76 | 173 |   8 |  4.6 | Europe        |\n| Botswana           | 173 |  35 |  35 |  5.4 | Africa        |\n| Brazil             | 245 | 145 |  16 |  7.2 | South America |\n| Brunei             |  31 |   2 |   1 |  0.6 | Asia          |\n| Bulgaria           | 231 | 252 |  94 | 10.3 | Europe        |\n| Burkina Faso       |  25 |   7 |   7 |  4.3 | Africa        |\n| Burundi            |  88 |   0 |   0 |  6.3 | Africa        |\n| Cote d'Ivoire      |  37 |   1 |   7 |  4.0 | Africa        |\n| Cabo Verde         | 144 |  56 |  16 |  4.0 | Africa        |\n| ⋮ | ⋮ | ⋮ | ⋮ | ⋮ | ⋮ |\n| Suriname             | 128 | 178 |   7 |  5.6 | South America |\n| Swaziland            |  90 |   2 |   2 |  4.7 | Africa        |\n| Sweden               | 152 |  60 | 186 |  7.2 | Europe        |\n| Switzerland          | 185 | 100 | 280 | 10.2 | Europe        |\n| Syria                |   5 |  35 |  16 |  1.0 | Asia          |\n| Tajikistan           |   2 |  15 |   0 |  0.3 | Asia          |\n| Thailand             |  99 | 258 |   1 |  6.4 | Asia          |\n| Macedonia            | 106 |  27 |  86 |  3.9 | Europe        |\n| Timor-Leste          |   1 |   1 |   4 |  0.1 | Asia          |\n| Togo                 |  36 |   2 |  19 |  1.3 | Africa        |\n| Tonga                |  36 |  21 |   5 |  1.1 | Oceania       |\n| Trinidad &amp; Tobago    | 197 | 156 |   7 |  6.4 | North America |\n| Tunisia              |  51 |   3 |  20 |  1.3 | Africa        |\n| Turkey               |  51 |  22 |   7 |  1.4 | Asia          |\n| Turkmenistan         |  19 |  71 |  32 |  2.2 | Asia          |\n| Tuvalu               |   6 |  41 |   9 |  1.0 | Oceania       |\n| Uganda               |  45 |   9 |   0 |  8.3 | Africa        |\n| Ukraine              | 206 | 237 |  45 |  8.9 | Europe        |\n| United Arab Emirates |  16 | 135 |   5 |  2.8 | Asia          |\n| United Kingdom       | 219 | 126 | 195 | 10.4 | Europe        |\n| Tanzania             |  36 |   6 |   1 |  5.7 | Africa        |\n| USA                  | 249 | 158 |  84 |  8.7 | North America |\n| Uruguay              | 115 |  35 | 220 |  6.6 | South America |\n| Uzbekistan           |  25 | 101 |   8 |  2.4 | Asia          |\n| Vanuatu              |  21 |  18 |  11 |  0.9 | Oceania       |\n| Venezuela            | 333 | 100 |   3 |  7.7 | South America |\n| Vietnam              | 111 |   2 |   1 |  2.0 | Asia          |\n| Yemen                |   6 |   0 |   0 |  0.1 | Asia          |\n| Zambia               |  32 |  19 |   4 |  2.5 | Africa        |\n| Zimbabwe             |  64 |  18 |   4 |  4.7 | Africa        |\n\n",
            "text/latex": "A grouped\\_df: 193 × 6\n\\begin{tabular}{llllll}\n country & beer\\_servings & spirit\\_servings & wine\\_servings & total\\_litres\\_of\\_pure\\_alcohol & continent\\\\\n <chr> & <int> & <int> & <int> & <dbl> & <chr>\\\\\n\\hline\n\t Afghanistan        &   0 &   0 &   0 &  0.0 & Asia         \\\\\n\t Albania            &  89 & 132 &  54 &  4.9 & Europe       \\\\\n\t Algeria            &  25 &   0 &  14 &  0.7 & Africa       \\\\\n\t Andorra            & 245 & 138 & 312 & 12.4 & Europe       \\\\\n\t Angola             & 217 &  57 &  45 &  5.9 & Africa       \\\\\n\t Antigua \\& Barbuda  & 102 & 128 &  45 &  4.9 & North America\\\\\n\t Argentina          & 193 &  25 & 221 &  8.3 & South America\\\\\n\t Armenia            &  21 & 179 &  11 &  3.8 & Europe       \\\\\n\t Australia          & 261 &  72 & 212 & 10.4 & Oceania      \\\\\n\t Austria            & 279 &  75 & 191 &  9.7 & Europe       \\\\\n\t Azerbaijan         &  21 &  46 &   5 &  1.3 & Europe       \\\\\n\t Bahamas            & 122 & 176 &  51 &  6.3 & North America\\\\\n\t Bahrain            &  42 &  63 &   7 &  2.0 & Asia         \\\\\n\t Bangladesh         &   0 &   0 &   0 &  0.0 & Asia         \\\\\n\t Barbados           & 143 & 173 &  36 &  6.3 & North America\\\\\n\t Belarus            & 142 & 373 &  42 & 14.4 & Europe       \\\\\n\t Belgium            & 295 &  84 & 212 & 10.5 & Europe       \\\\\n\t Belize             & 263 & 114 &   8 &  6.8 & North America\\\\\n\t Benin              &  34 &   4 &  13 &  1.1 & Africa       \\\\\n\t Bhutan             &  23 &   0 &   0 &  0.4 & Asia         \\\\\n\t Bolivia            & 167 &  41 &   8 &  3.8 & South America\\\\\n\t Bosnia-Herzegovina &  76 & 173 &   8 &  4.6 & Europe       \\\\\n\t Botswana           & 173 &  35 &  35 &  5.4 & Africa       \\\\\n\t Brazil             & 245 & 145 &  16 &  7.2 & South America\\\\\n\t Brunei             &  31 &   2 &   1 &  0.6 & Asia         \\\\\n\t Bulgaria           & 231 & 252 &  94 & 10.3 & Europe       \\\\\n\t Burkina Faso       &  25 &   7 &   7 &  4.3 & Africa       \\\\\n\t Burundi            &  88 &   0 &   0 &  6.3 & Africa       \\\\\n\t Cote d'Ivoire      &  37 &   1 &   7 &  4.0 & Africa       \\\\\n\t Cabo Verde         & 144 &  56 &  16 &  4.0 & Africa       \\\\\n\t ⋮ & ⋮ & ⋮ & ⋮ & ⋮ & ⋮\\\\\n\t Suriname             & 128 & 178 &   7 &  5.6 & South America\\\\\n\t Swaziland            &  90 &   2 &   2 &  4.7 & Africa       \\\\\n\t Sweden               & 152 &  60 & 186 &  7.2 & Europe       \\\\\n\t Switzerland          & 185 & 100 & 280 & 10.2 & Europe       \\\\\n\t Syria                &   5 &  35 &  16 &  1.0 & Asia         \\\\\n\t Tajikistan           &   2 &  15 &   0 &  0.3 & Asia         \\\\\n\t Thailand             &  99 & 258 &   1 &  6.4 & Asia         \\\\\n\t Macedonia            & 106 &  27 &  86 &  3.9 & Europe       \\\\\n\t Timor-Leste          &   1 &   1 &   4 &  0.1 & Asia         \\\\\n\t Togo                 &  36 &   2 &  19 &  1.3 & Africa       \\\\\n\t Tonga                &  36 &  21 &   5 &  1.1 & Oceania      \\\\\n\t Trinidad \\& Tobago    & 197 & 156 &   7 &  6.4 & North America\\\\\n\t Tunisia              &  51 &   3 &  20 &  1.3 & Africa       \\\\\n\t Turkey               &  51 &  22 &   7 &  1.4 & Asia         \\\\\n\t Turkmenistan         &  19 &  71 &  32 &  2.2 & Asia         \\\\\n\t Tuvalu               &   6 &  41 &   9 &  1.0 & Oceania      \\\\\n\t Uganda               &  45 &   9 &   0 &  8.3 & Africa       \\\\\n\t Ukraine              & 206 & 237 &  45 &  8.9 & Europe       \\\\\n\t United Arab Emirates &  16 & 135 &   5 &  2.8 & Asia         \\\\\n\t United Kingdom       & 219 & 126 & 195 & 10.4 & Europe       \\\\\n\t Tanzania             &  36 &   6 &   1 &  5.7 & Africa       \\\\\n\t USA                  & 249 & 158 &  84 &  8.7 & North America\\\\\n\t Uruguay              & 115 &  35 & 220 &  6.6 & South America\\\\\n\t Uzbekistan           &  25 & 101 &   8 &  2.4 & Asia         \\\\\n\t Vanuatu              &  21 &  18 &  11 &  0.9 & Oceania      \\\\\n\t Venezuela            & 333 & 100 &   3 &  7.7 & South America\\\\\n\t Vietnam              & 111 &   2 &   1 &  2.0 & Asia         \\\\\n\t Yemen                &   6 &   0 &   0 &  0.1 & Asia         \\\\\n\t Zambia               &  32 &  19 &   4 &  2.5 & Africa       \\\\\n\t Zimbabwe             &  64 &  18 &   4 &  4.7 & Africa       \\\\\n\\end{tabular}\n",
            "text/plain": [
              "    country              beer_servings spirit_servings wine_servings\n",
              "1   Afghanistan            0             0               0          \n",
              "2   Albania               89           132              54          \n",
              "3   Algeria               25             0              14          \n",
              "4   Andorra              245           138             312          \n",
              "5   Angola               217            57              45          \n",
              "6   Antigua & Barbuda    102           128              45          \n",
              "7   Argentina            193            25             221          \n",
              "8   Armenia               21           179              11          \n",
              "9   Australia            261            72             212          \n",
              "10  Austria              279            75             191          \n",
              "11  Azerbaijan            21            46               5          \n",
              "12  Bahamas              122           176              51          \n",
              "13  Bahrain               42            63               7          \n",
              "14  Bangladesh             0             0               0          \n",
              "15  Barbados             143           173              36          \n",
              "16  Belarus              142           373              42          \n",
              "17  Belgium              295            84             212          \n",
              "18  Belize               263           114               8          \n",
              "19  Benin                 34             4              13          \n",
              "20  Bhutan                23             0               0          \n",
              "21  Bolivia              167            41               8          \n",
              "22  Bosnia-Herzegovina    76           173               8          \n",
              "23  Botswana             173            35              35          \n",
              "24  Brazil               245           145              16          \n",
              "25  Brunei                31             2               1          \n",
              "26  Bulgaria             231           252              94          \n",
              "27  Burkina Faso          25             7               7          \n",
              "28  Burundi               88             0               0          \n",
              "29  Cote d'Ivoire         37             1               7          \n",
              "30  Cabo Verde           144            56              16          \n",
              "⋮   ⋮                    ⋮             ⋮               ⋮            \n",
              "164 Suriname             128           178               7          \n",
              "165 Swaziland             90             2               2          \n",
              "166 Sweden               152            60             186          \n",
              "167 Switzerland          185           100             280          \n",
              "168 Syria                  5            35              16          \n",
              "169 Tajikistan             2            15               0          \n",
              "170 Thailand              99           258               1          \n",
              "171 Macedonia            106            27              86          \n",
              "172 Timor-Leste            1             1               4          \n",
              "173 Togo                  36             2              19          \n",
              "174 Tonga                 36            21               5          \n",
              "175 Trinidad & Tobago    197           156               7          \n",
              "176 Tunisia               51             3              20          \n",
              "177 Turkey                51            22               7          \n",
              "178 Turkmenistan          19            71              32          \n",
              "179 Tuvalu                 6            41               9          \n",
              "180 Uganda                45             9               0          \n",
              "181 Ukraine              206           237              45          \n",
              "182 United Arab Emirates  16           135               5          \n",
              "183 United Kingdom       219           126             195          \n",
              "184 Tanzania              36             6               1          \n",
              "185 USA                  249           158              84          \n",
              "186 Uruguay              115            35             220          \n",
              "187 Uzbekistan            25           101               8          \n",
              "188 Vanuatu               21            18              11          \n",
              "189 Venezuela            333           100               3          \n",
              "190 Vietnam              111             2               1          \n",
              "191 Yemen                  6             0               0          \n",
              "192 Zambia                32            19               4          \n",
              "193 Zimbabwe              64            18               4          \n",
              "    total_litres_of_pure_alcohol continent    \n",
              "1    0.0                         Asia         \n",
              "2    4.9                         Europe       \n",
              "3    0.7                         Africa       \n",
              "4   12.4                         Europe       \n",
              "5    5.9                         Africa       \n",
              "6    4.9                         North America\n",
              "7    8.3                         South America\n",
              "8    3.8                         Europe       \n",
              "9   10.4                         Oceania      \n",
              "10   9.7                         Europe       \n",
              "11   1.3                         Europe       \n",
              "12   6.3                         North America\n",
              "13   2.0                         Asia         \n",
              "14   0.0                         Asia         \n",
              "15   6.3                         North America\n",
              "16  14.4                         Europe       \n",
              "17  10.5                         Europe       \n",
              "18   6.8                         North America\n",
              "19   1.1                         Africa       \n",
              "20   0.4                         Asia         \n",
              "21   3.8                         South America\n",
              "22   4.6                         Europe       \n",
              "23   5.4                         Africa       \n",
              "24   7.2                         South America\n",
              "25   0.6                         Asia         \n",
              "26  10.3                         Europe       \n",
              "27   4.3                         Africa       \n",
              "28   6.3                         Africa       \n",
              "29   4.0                         Africa       \n",
              "30   4.0                         Africa       \n",
              "⋮   ⋮                            ⋮            \n",
              "164  5.6                         South America\n",
              "165  4.7                         Africa       \n",
              "166  7.2                         Europe       \n",
              "167 10.2                         Europe       \n",
              "168  1.0                         Asia         \n",
              "169  0.3                         Asia         \n",
              "170  6.4                         Asia         \n",
              "171  3.9                         Europe       \n",
              "172  0.1                         Asia         \n",
              "173  1.3                         Africa       \n",
              "174  1.1                         Oceania      \n",
              "175  6.4                         North America\n",
              "176  1.3                         Africa       \n",
              "177  1.4                         Asia         \n",
              "178  2.2                         Asia         \n",
              "179  1.0                         Oceania      \n",
              "180  8.3                         Africa       \n",
              "181  8.9                         Europe       \n",
              "182  2.8                         Asia         \n",
              "183 10.4                         Europe       \n",
              "184  5.7                         Africa       \n",
              "185  8.7                         North America\n",
              "186  6.6                         South America\n",
              "187  2.4                         Asia         \n",
              "188  0.9                         Oceania      \n",
              "189  7.7                         South America\n",
              "190  2.0                         Asia         \n",
              "191  0.1                         Asia         \n",
              "192  2.5                         Africa       \n",
              "193  4.7                         Africa       "
            ]
          },
          "metadata": {}
        }
      ]
    },
    {
      "cell_type": "code",
      "source": [
        "agg_tbl<-grp_tbl %>% summarise(min(beer_servings))\n",
        "agg_tbl #minimum beer serving consumption for each unique value in the \"wine_servings\" column"
      ],
      "metadata": {
        "colab": {
          "base_uri": "https://localhost:8080/",
          "height": 1000
        },
        "id": "iMvb_LC47NfZ",
        "outputId": "23e6d4d8-9eda-40f9-8e98-1a47a5168382"
      },
      "execution_count": null,
      "outputs": [
        {
          "output_type": "display_data",
          "data": {
            "text/html": [
              "<table class=\"dataframe\">\n",
              "<caption>A tibble: 79 × 2</caption>\n",
              "<thead>\n",
              "\t<tr><th scope=col>wine_servings</th><th scope=col>min(beer_servings)</th></tr>\n",
              "\t<tr><th scope=col>&lt;int&gt;</th><th scope=col>&lt;int&gt;</th></tr>\n",
              "</thead>\n",
              "<tbody>\n",
              "\t<tr><td> 0</td><td>  0</td></tr>\n",
              "\t<tr><td> 1</td><td>  1</td></tr>\n",
              "\t<tr><td> 2</td><td>  9</td></tr>\n",
              "\t<tr><td> 3</td><td> 15</td></tr>\n",
              "\t<tr><td> 4</td><td>  1</td></tr>\n",
              "\t<tr><td> 5</td><td> 16</td></tr>\n",
              "\t<tr><td> 6</td><td> 31</td></tr>\n",
              "\t<tr><td> 7</td><td>  1</td></tr>\n",
              "\t<tr><td> 8</td><td> 25</td></tr>\n",
              "\t<tr><td> 9</td><td>  6</td></tr>\n",
              "\t<tr><td>10</td><td> 12</td></tr>\n",
              "\t<tr><td>11</td><td> 21</td></tr>\n",
              "\t<tr><td>12</td><td>124</td></tr>\n",
              "\t<tr><td>13</td><td> 34</td></tr>\n",
              "\t<tr><td>14</td><td> 25</td></tr>\n",
              "\t<tr><td>16</td><td>  5</td></tr>\n",
              "\t<tr><td>18</td><td> 62</td></tr>\n",
              "\t<tr><td>19</td><td> 36</td></tr>\n",
              "\t<tr><td>20</td><td> 51</td></tr>\n",
              "\t<tr><td>21</td><td> 28</td></tr>\n",
              "\t<tr><td>23</td><td>306</td></tr>\n",
              "\t<tr><td>24</td><td>105</td></tr>\n",
              "\t<tr><td>26</td><td> 52</td></tr>\n",
              "\t<tr><td>28</td><td>199</td></tr>\n",
              "\t<tr><td>31</td><td> 20</td></tr>\n",
              "\t<tr><td>32</td><td> 19</td></tr>\n",
              "\t<tr><td>35</td><td>173</td></tr>\n",
              "\t<tr><td>36</td><td>143</td></tr>\n",
              "\t<tr><td>42</td><td>142</td></tr>\n",
              "\t<tr><td>45</td><td>102</td></tr>\n",
              "\t<tr><td>⋮</td><td>⋮</td></tr>\n",
              "\t<tr><td>123</td><td> 62</td></tr>\n",
              "\t<tr><td>127</td><td>283</td></tr>\n",
              "\t<tr><td>128</td><td> 31</td></tr>\n",
              "\t<tr><td>129</td><td>169</td></tr>\n",
              "\t<tr><td>134</td><td>361</td></tr>\n",
              "\t<tr><td>140</td><td> 56</td></tr>\n",
              "\t<tr><td>149</td><td> 52</td></tr>\n",
              "\t<tr><td>165</td><td>313</td></tr>\n",
              "\t<tr><td>167</td><td>297</td></tr>\n",
              "\t<tr><td>172</td><td>130</td></tr>\n",
              "\t<tr><td>175</td><td>203</td></tr>\n",
              "\t<tr><td>185</td><td>234</td></tr>\n",
              "\t<tr><td>186</td><td>152</td></tr>\n",
              "\t<tr><td>190</td><td>251</td></tr>\n",
              "\t<tr><td>191</td><td>279</td></tr>\n",
              "\t<tr><td>195</td><td>219</td></tr>\n",
              "\t<tr><td>212</td><td>261</td></tr>\n",
              "\t<tr><td>218</td><td>133</td></tr>\n",
              "\t<tr><td>220</td><td>115</td></tr>\n",
              "\t<tr><td>221</td><td>193</td></tr>\n",
              "\t<tr><td>233</td><td> 92</td></tr>\n",
              "\t<tr><td>237</td><td> 85</td></tr>\n",
              "\t<tr><td>254</td><td>230</td></tr>\n",
              "\t<tr><td>271</td><td>236</td></tr>\n",
              "\t<tr><td>276</td><td>270</td></tr>\n",
              "\t<tr><td>278</td><td>224</td></tr>\n",
              "\t<tr><td>280</td><td>185</td></tr>\n",
              "\t<tr><td>312</td><td>245</td></tr>\n",
              "\t<tr><td>339</td><td>194</td></tr>\n",
              "\t<tr><td>370</td><td>127</td></tr>\n",
              "</tbody>\n",
              "</table>\n"
            ],
            "text/markdown": "\nA tibble: 79 × 2\n\n| wine_servings &lt;int&gt; | min(beer_servings) &lt;int&gt; |\n|---|---|\n|  0 |   0 |\n|  1 |   1 |\n|  2 |   9 |\n|  3 |  15 |\n|  4 |   1 |\n|  5 |  16 |\n|  6 |  31 |\n|  7 |   1 |\n|  8 |  25 |\n|  9 |   6 |\n| 10 |  12 |\n| 11 |  21 |\n| 12 | 124 |\n| 13 |  34 |\n| 14 |  25 |\n| 16 |   5 |\n| 18 |  62 |\n| 19 |  36 |\n| 20 |  51 |\n| 21 |  28 |\n| 23 | 306 |\n| 24 | 105 |\n| 26 |  52 |\n| 28 | 199 |\n| 31 |  20 |\n| 32 |  19 |\n| 35 | 173 |\n| 36 | 143 |\n| 42 | 142 |\n| 45 | 102 |\n| ⋮ | ⋮ |\n| 123 |  62 |\n| 127 | 283 |\n| 128 |  31 |\n| 129 | 169 |\n| 134 | 361 |\n| 140 |  56 |\n| 149 |  52 |\n| 165 | 313 |\n| 167 | 297 |\n| 172 | 130 |\n| 175 | 203 |\n| 185 | 234 |\n| 186 | 152 |\n| 190 | 251 |\n| 191 | 279 |\n| 195 | 219 |\n| 212 | 261 |\n| 218 | 133 |\n| 220 | 115 |\n| 221 | 193 |\n| 233 |  92 |\n| 237 |  85 |\n| 254 | 230 |\n| 271 | 236 |\n| 276 | 270 |\n| 278 | 224 |\n| 280 | 185 |\n| 312 | 245 |\n| 339 | 194 |\n| 370 | 127 |\n\n",
            "text/latex": "A tibble: 79 × 2\n\\begin{tabular}{ll}\n wine\\_servings & min(beer\\_servings)\\\\\n <int> & <int>\\\\\n\\hline\n\t  0 &   0\\\\\n\t  1 &   1\\\\\n\t  2 &   9\\\\\n\t  3 &  15\\\\\n\t  4 &   1\\\\\n\t  5 &  16\\\\\n\t  6 &  31\\\\\n\t  7 &   1\\\\\n\t  8 &  25\\\\\n\t  9 &   6\\\\\n\t 10 &  12\\\\\n\t 11 &  21\\\\\n\t 12 & 124\\\\\n\t 13 &  34\\\\\n\t 14 &  25\\\\\n\t 16 &   5\\\\\n\t 18 &  62\\\\\n\t 19 &  36\\\\\n\t 20 &  51\\\\\n\t 21 &  28\\\\\n\t 23 & 306\\\\\n\t 24 & 105\\\\\n\t 26 &  52\\\\\n\t 28 & 199\\\\\n\t 31 &  20\\\\\n\t 32 &  19\\\\\n\t 35 & 173\\\\\n\t 36 & 143\\\\\n\t 42 & 142\\\\\n\t 45 & 102\\\\\n\t ⋮ & ⋮\\\\\n\t 123 &  62\\\\\n\t 127 & 283\\\\\n\t 128 &  31\\\\\n\t 129 & 169\\\\\n\t 134 & 361\\\\\n\t 140 &  56\\\\\n\t 149 &  52\\\\\n\t 165 & 313\\\\\n\t 167 & 297\\\\\n\t 172 & 130\\\\\n\t 175 & 203\\\\\n\t 185 & 234\\\\\n\t 186 & 152\\\\\n\t 190 & 251\\\\\n\t 191 & 279\\\\\n\t 195 & 219\\\\\n\t 212 & 261\\\\\n\t 218 & 133\\\\\n\t 220 & 115\\\\\n\t 221 & 193\\\\\n\t 233 &  92\\\\\n\t 237 &  85\\\\\n\t 254 & 230\\\\\n\t 271 & 236\\\\\n\t 276 & 270\\\\\n\t 278 & 224\\\\\n\t 280 & 185\\\\\n\t 312 & 245\\\\\n\t 339 & 194\\\\\n\t 370 & 127\\\\\n\\end{tabular}\n",
            "text/plain": [
              "   wine_servings min(beer_servings)\n",
              "1   0              0               \n",
              "2   1              1               \n",
              "3   2              9               \n",
              "4   3             15               \n",
              "5   4              1               \n",
              "6   5             16               \n",
              "7   6             31               \n",
              "8   7              1               \n",
              "9   8             25               \n",
              "10  9              6               \n",
              "11 10             12               \n",
              "12 11             21               \n",
              "13 12            124               \n",
              "14 13             34               \n",
              "15 14             25               \n",
              "16 16              5               \n",
              "17 18             62               \n",
              "18 19             36               \n",
              "19 20             51               \n",
              "20 21             28               \n",
              "21 23            306               \n",
              "22 24            105               \n",
              "23 26             52               \n",
              "24 28            199               \n",
              "25 31             20               \n",
              "26 32             19               \n",
              "27 35            173               \n",
              "28 36            143               \n",
              "29 42            142               \n",
              "30 45            102               \n",
              "⋮  ⋮             ⋮                 \n",
              "50 123            62               \n",
              "51 127           283               \n",
              "52 128            31               \n",
              "53 129           169               \n",
              "54 134           361               \n",
              "55 140            56               \n",
              "56 149            52               \n",
              "57 165           313               \n",
              "58 167           297               \n",
              "59 172           130               \n",
              "60 175           203               \n",
              "61 185           234               \n",
              "62 186           152               \n",
              "63 190           251               \n",
              "64 191           279               \n",
              "65 195           219               \n",
              "66 212           261               \n",
              "67 218           133               \n",
              "68 220           115               \n",
              "69 221           193               \n",
              "70 233            92               \n",
              "71 237            85               \n",
              "72 254           230               \n",
              "73 271           236               \n",
              "74 276           270               \n",
              "75 278           224               \n",
              "76 280           185               \n",
              "77 312           245               \n",
              "78 339           194               \n",
              "79 370           127               "
            ]
          },
          "metadata": {}
        }
      ]
    },
    {
      "cell_type": "code",
      "source": [
        "df<- mutate(df, total=beer_servings+spirit_servings)\n",
        "head(df,2)"
      ],
      "metadata": {
        "colab": {
          "base_uri": "https://localhost:8080/",
          "height": 181
        },
        "id": "KfiAvdRo8BeQ",
        "outputId": "08684d90-4200-4f4d-f6fc-d577c5b3afbd"
      },
      "execution_count": null,
      "outputs": [
        {
          "output_type": "display_data",
          "data": {
            "text/html": [
              "<table class=\"dataframe\">\n",
              "<caption>A data.frame: 2 × 7</caption>\n",
              "<thead>\n",
              "\t<tr><th></th><th scope=col>country</th><th scope=col>beer_servings</th><th scope=col>spirit_servings</th><th scope=col>wine_servings</th><th scope=col>total_litres_of_pure_alcohol</th><th scope=col>continent</th><th scope=col>total</th></tr>\n",
              "\t<tr><th></th><th scope=col>&lt;chr&gt;</th><th scope=col>&lt;int&gt;</th><th scope=col>&lt;int&gt;</th><th scope=col>&lt;int&gt;</th><th scope=col>&lt;dbl&gt;</th><th scope=col>&lt;chr&gt;</th><th scope=col>&lt;int&gt;</th></tr>\n",
              "</thead>\n",
              "<tbody>\n",
              "\t<tr><th scope=row>1</th><td>Afghanistan</td><td> 0</td><td>  0</td><td> 0</td><td>0.0</td><td>Asia  </td><td>  0</td></tr>\n",
              "\t<tr><th scope=row>2</th><td>Albania    </td><td>89</td><td>132</td><td>54</td><td>4.9</td><td>Europe</td><td>221</td></tr>\n",
              "</tbody>\n",
              "</table>\n"
            ],
            "text/markdown": "\nA data.frame: 2 × 7\n\n| <!--/--> | country &lt;chr&gt; | beer_servings &lt;int&gt; | spirit_servings &lt;int&gt; | wine_servings &lt;int&gt; | total_litres_of_pure_alcohol &lt;dbl&gt; | continent &lt;chr&gt; | total &lt;int&gt; |\n|---|---|---|---|---|---|---|---|\n| 1 | Afghanistan |  0 |   0 |  0 | 0.0 | Asia   |   0 |\n| 2 | Albania     | 89 | 132 | 54 | 4.9 | Europe | 221 |\n\n",
            "text/latex": "A data.frame: 2 × 7\n\\begin{tabular}{r|lllllll}\n  & country & beer\\_servings & spirit\\_servings & wine\\_servings & total\\_litres\\_of\\_pure\\_alcohol & continent & total\\\\\n  & <chr> & <int> & <int> & <int> & <dbl> & <chr> & <int>\\\\\n\\hline\n\t1 & Afghanistan &  0 &   0 &  0 & 0.0 & Asia   &   0\\\\\n\t2 & Albania     & 89 & 132 & 54 & 4.9 & Europe & 221\\\\\n\\end{tabular}\n",
            "text/plain": [
              "  country     beer_servings spirit_servings wine_servings\n",
              "1 Afghanistan  0              0              0           \n",
              "2 Albania     89            132             54           \n",
              "  total_litres_of_pure_alcohol continent total\n",
              "1 0.0                          Asia        0  \n",
              "2 4.9                          Europe    221  "
            ]
          },
          "metadata": {}
        }
      ]
    },
    {
      "cell_type": "code",
      "source": [
        "df %>% group_by(country)"
      ],
      "metadata": {
        "colab": {
          "base_uri": "https://localhost:8080/",
          "height": 1000
        },
        "id": "RQvrYS8m8feu",
        "outputId": "f3567ced-42bf-44b7-f8d4-a6866ad41410"
      },
      "execution_count": null,
      "outputs": [
        {
          "output_type": "display_data",
          "data": {
            "text/html": [
              "<table class=\"dataframe\">\n",
              "<caption>A grouped_df: 193 × 7</caption>\n",
              "<thead>\n",
              "\t<tr><th scope=col>country</th><th scope=col>beer_servings</th><th scope=col>spirit_servings</th><th scope=col>wine_servings</th><th scope=col>total_litres_of_pure_alcohol</th><th scope=col>continent</th><th scope=col>total</th></tr>\n",
              "\t<tr><th scope=col>&lt;chr&gt;</th><th scope=col>&lt;int&gt;</th><th scope=col>&lt;int&gt;</th><th scope=col>&lt;int&gt;</th><th scope=col>&lt;dbl&gt;</th><th scope=col>&lt;chr&gt;</th><th scope=col>&lt;int&gt;</th></tr>\n",
              "</thead>\n",
              "<tbody>\n",
              "\t<tr><td>Afghanistan       </td><td>  0</td><td>  0</td><td>  0</td><td> 0.0</td><td>Asia         </td><td>  0</td></tr>\n",
              "\t<tr><td>Albania           </td><td> 89</td><td>132</td><td> 54</td><td> 4.9</td><td>Europe       </td><td>221</td></tr>\n",
              "\t<tr><td>Algeria           </td><td> 25</td><td>  0</td><td> 14</td><td> 0.7</td><td>Africa       </td><td> 25</td></tr>\n",
              "\t<tr><td>Andorra           </td><td>245</td><td>138</td><td>312</td><td>12.4</td><td>Europe       </td><td>383</td></tr>\n",
              "\t<tr><td>Angola            </td><td>217</td><td> 57</td><td> 45</td><td> 5.9</td><td>Africa       </td><td>274</td></tr>\n",
              "\t<tr><td>Antigua &amp; Barbuda </td><td>102</td><td>128</td><td> 45</td><td> 4.9</td><td>North America</td><td>230</td></tr>\n",
              "\t<tr><td>Argentina         </td><td>193</td><td> 25</td><td>221</td><td> 8.3</td><td>South America</td><td>218</td></tr>\n",
              "\t<tr><td>Armenia           </td><td> 21</td><td>179</td><td> 11</td><td> 3.8</td><td>Europe       </td><td>200</td></tr>\n",
              "\t<tr><td>Australia         </td><td>261</td><td> 72</td><td>212</td><td>10.4</td><td>Oceania      </td><td>333</td></tr>\n",
              "\t<tr><td>Austria           </td><td>279</td><td> 75</td><td>191</td><td> 9.7</td><td>Europe       </td><td>354</td></tr>\n",
              "\t<tr><td>Azerbaijan        </td><td> 21</td><td> 46</td><td>  5</td><td> 1.3</td><td>Europe       </td><td> 67</td></tr>\n",
              "\t<tr><td>Bahamas           </td><td>122</td><td>176</td><td> 51</td><td> 6.3</td><td>North America</td><td>298</td></tr>\n",
              "\t<tr><td>Bahrain           </td><td> 42</td><td> 63</td><td>  7</td><td> 2.0</td><td>Asia         </td><td>105</td></tr>\n",
              "\t<tr><td>Bangladesh        </td><td>  0</td><td>  0</td><td>  0</td><td> 0.0</td><td>Asia         </td><td>  0</td></tr>\n",
              "\t<tr><td>Barbados          </td><td>143</td><td>173</td><td> 36</td><td> 6.3</td><td>North America</td><td>316</td></tr>\n",
              "\t<tr><td>Belarus           </td><td>142</td><td>373</td><td> 42</td><td>14.4</td><td>Europe       </td><td>515</td></tr>\n",
              "\t<tr><td>Belgium           </td><td>295</td><td> 84</td><td>212</td><td>10.5</td><td>Europe       </td><td>379</td></tr>\n",
              "\t<tr><td>Belize            </td><td>263</td><td>114</td><td>  8</td><td> 6.8</td><td>North America</td><td>377</td></tr>\n",
              "\t<tr><td>Benin             </td><td> 34</td><td>  4</td><td> 13</td><td> 1.1</td><td>Africa       </td><td> 38</td></tr>\n",
              "\t<tr><td>Bhutan            </td><td> 23</td><td>  0</td><td>  0</td><td> 0.4</td><td>Asia         </td><td> 23</td></tr>\n",
              "\t<tr><td>Bolivia           </td><td>167</td><td> 41</td><td>  8</td><td> 3.8</td><td>South America</td><td>208</td></tr>\n",
              "\t<tr><td>Bosnia-Herzegovina</td><td> 76</td><td>173</td><td>  8</td><td> 4.6</td><td>Europe       </td><td>249</td></tr>\n",
              "\t<tr><td>Botswana          </td><td>173</td><td> 35</td><td> 35</td><td> 5.4</td><td>Africa       </td><td>208</td></tr>\n",
              "\t<tr><td>Brazil            </td><td>245</td><td>145</td><td> 16</td><td> 7.2</td><td>South America</td><td>390</td></tr>\n",
              "\t<tr><td>Brunei            </td><td> 31</td><td>  2</td><td>  1</td><td> 0.6</td><td>Asia         </td><td> 33</td></tr>\n",
              "\t<tr><td>Bulgaria          </td><td>231</td><td>252</td><td> 94</td><td>10.3</td><td>Europe       </td><td>483</td></tr>\n",
              "\t<tr><td>Burkina Faso      </td><td> 25</td><td>  7</td><td>  7</td><td> 4.3</td><td>Africa       </td><td> 32</td></tr>\n",
              "\t<tr><td>Burundi           </td><td> 88</td><td>  0</td><td>  0</td><td> 6.3</td><td>Africa       </td><td> 88</td></tr>\n",
              "\t<tr><td>Cote d'Ivoire     </td><td> 37</td><td>  1</td><td>  7</td><td> 4.0</td><td>Africa       </td><td> 38</td></tr>\n",
              "\t<tr><td>Cabo Verde        </td><td>144</td><td> 56</td><td> 16</td><td> 4.0</td><td>Africa       </td><td>200</td></tr>\n",
              "\t<tr><td>⋮</td><td>⋮</td><td>⋮</td><td>⋮</td><td>⋮</td><td>⋮</td><td>⋮</td></tr>\n",
              "\t<tr><td>Suriname            </td><td>128</td><td>178</td><td>  7</td><td> 5.6</td><td>South America</td><td>306</td></tr>\n",
              "\t<tr><td>Swaziland           </td><td> 90</td><td>  2</td><td>  2</td><td> 4.7</td><td>Africa       </td><td> 92</td></tr>\n",
              "\t<tr><td>Sweden              </td><td>152</td><td> 60</td><td>186</td><td> 7.2</td><td>Europe       </td><td>212</td></tr>\n",
              "\t<tr><td>Switzerland         </td><td>185</td><td>100</td><td>280</td><td>10.2</td><td>Europe       </td><td>285</td></tr>\n",
              "\t<tr><td>Syria               </td><td>  5</td><td> 35</td><td> 16</td><td> 1.0</td><td>Asia         </td><td> 40</td></tr>\n",
              "\t<tr><td>Tajikistan          </td><td>  2</td><td> 15</td><td>  0</td><td> 0.3</td><td>Asia         </td><td> 17</td></tr>\n",
              "\t<tr><td>Thailand            </td><td> 99</td><td>258</td><td>  1</td><td> 6.4</td><td>Asia         </td><td>357</td></tr>\n",
              "\t<tr><td>Macedonia           </td><td>106</td><td> 27</td><td> 86</td><td> 3.9</td><td>Europe       </td><td>133</td></tr>\n",
              "\t<tr><td>Timor-Leste         </td><td>  1</td><td>  1</td><td>  4</td><td> 0.1</td><td>Asia         </td><td>  2</td></tr>\n",
              "\t<tr><td>Togo                </td><td> 36</td><td>  2</td><td> 19</td><td> 1.3</td><td>Africa       </td><td> 38</td></tr>\n",
              "\t<tr><td>Tonga               </td><td> 36</td><td> 21</td><td>  5</td><td> 1.1</td><td>Oceania      </td><td> 57</td></tr>\n",
              "\t<tr><td><span style=white-space:pre-wrap>Trinidad &amp; Tobago   </span></td><td>197</td><td>156</td><td><span style=white-space:pre-wrap>  7</span></td><td> 6.4</td><td>North America</td><td>353</td></tr>\n",
              "\t<tr><td>Tunisia             </td><td> 51</td><td>  3</td><td> 20</td><td> 1.3</td><td>Africa       </td><td> 54</td></tr>\n",
              "\t<tr><td>Turkey              </td><td> 51</td><td> 22</td><td>  7</td><td> 1.4</td><td>Asia         </td><td> 73</td></tr>\n",
              "\t<tr><td>Turkmenistan        </td><td> 19</td><td> 71</td><td> 32</td><td> 2.2</td><td>Asia         </td><td> 90</td></tr>\n",
              "\t<tr><td>Tuvalu              </td><td>  6</td><td> 41</td><td>  9</td><td> 1.0</td><td>Oceania      </td><td> 47</td></tr>\n",
              "\t<tr><td>Uganda              </td><td> 45</td><td>  9</td><td>  0</td><td> 8.3</td><td>Africa       </td><td> 54</td></tr>\n",
              "\t<tr><td>Ukraine             </td><td>206</td><td>237</td><td> 45</td><td> 8.9</td><td>Europe       </td><td>443</td></tr>\n",
              "\t<tr><td>United Arab Emirates</td><td> 16</td><td>135</td><td>  5</td><td> 2.8</td><td>Asia         </td><td>151</td></tr>\n",
              "\t<tr><td>United Kingdom      </td><td>219</td><td>126</td><td>195</td><td>10.4</td><td>Europe       </td><td>345</td></tr>\n",
              "\t<tr><td>Tanzania            </td><td> 36</td><td>  6</td><td>  1</td><td> 5.7</td><td>Africa       </td><td> 42</td></tr>\n",
              "\t<tr><td>USA                 </td><td>249</td><td>158</td><td> 84</td><td> 8.7</td><td>North America</td><td>407</td></tr>\n",
              "\t<tr><td>Uruguay             </td><td>115</td><td> 35</td><td>220</td><td> 6.6</td><td>South America</td><td>150</td></tr>\n",
              "\t<tr><td>Uzbekistan          </td><td> 25</td><td>101</td><td>  8</td><td> 2.4</td><td>Asia         </td><td>126</td></tr>\n",
              "\t<tr><td>Vanuatu             </td><td> 21</td><td> 18</td><td> 11</td><td> 0.9</td><td>Oceania      </td><td> 39</td></tr>\n",
              "\t<tr><td>Venezuela           </td><td>333</td><td>100</td><td>  3</td><td> 7.7</td><td>South America</td><td>433</td></tr>\n",
              "\t<tr><td>Vietnam             </td><td>111</td><td>  2</td><td>  1</td><td> 2.0</td><td>Asia         </td><td>113</td></tr>\n",
              "\t<tr><td>Yemen               </td><td>  6</td><td>  0</td><td>  0</td><td> 0.1</td><td>Asia         </td><td>  6</td></tr>\n",
              "\t<tr><td>Zambia              </td><td> 32</td><td> 19</td><td>  4</td><td> 2.5</td><td>Africa       </td><td> 51</td></tr>\n",
              "\t<tr><td>Zimbabwe            </td><td> 64</td><td> 18</td><td>  4</td><td> 4.7</td><td>Africa       </td><td> 82</td></tr>\n",
              "</tbody>\n",
              "</table>\n"
            ],
            "text/markdown": "\nA grouped_df: 193 × 7\n\n| country &lt;chr&gt; | beer_servings &lt;int&gt; | spirit_servings &lt;int&gt; | wine_servings &lt;int&gt; | total_litres_of_pure_alcohol &lt;dbl&gt; | continent &lt;chr&gt; | total &lt;int&gt; |\n|---|---|---|---|---|---|---|\n| Afghanistan        |   0 |   0 |   0 |  0.0 | Asia          |   0 |\n| Albania            |  89 | 132 |  54 |  4.9 | Europe        | 221 |\n| Algeria            |  25 |   0 |  14 |  0.7 | Africa        |  25 |\n| Andorra            | 245 | 138 | 312 | 12.4 | Europe        | 383 |\n| Angola             | 217 |  57 |  45 |  5.9 | Africa        | 274 |\n| Antigua &amp; Barbuda  | 102 | 128 |  45 |  4.9 | North America | 230 |\n| Argentina          | 193 |  25 | 221 |  8.3 | South America | 218 |\n| Armenia            |  21 | 179 |  11 |  3.8 | Europe        | 200 |\n| Australia          | 261 |  72 | 212 | 10.4 | Oceania       | 333 |\n| Austria            | 279 |  75 | 191 |  9.7 | Europe        | 354 |\n| Azerbaijan         |  21 |  46 |   5 |  1.3 | Europe        |  67 |\n| Bahamas            | 122 | 176 |  51 |  6.3 | North America | 298 |\n| Bahrain            |  42 |  63 |   7 |  2.0 | Asia          | 105 |\n| Bangladesh         |   0 |   0 |   0 |  0.0 | Asia          |   0 |\n| Barbados           | 143 | 173 |  36 |  6.3 | North America | 316 |\n| Belarus            | 142 | 373 |  42 | 14.4 | Europe        | 515 |\n| Belgium            | 295 |  84 | 212 | 10.5 | Europe        | 379 |\n| Belize             | 263 | 114 |   8 |  6.8 | North America | 377 |\n| Benin              |  34 |   4 |  13 |  1.1 | Africa        |  38 |\n| Bhutan             |  23 |   0 |   0 |  0.4 | Asia          |  23 |\n| Bolivia            | 167 |  41 |   8 |  3.8 | South America | 208 |\n| Bosnia-Herzegovina |  76 | 173 |   8 |  4.6 | Europe        | 249 |\n| Botswana           | 173 |  35 |  35 |  5.4 | Africa        | 208 |\n| Brazil             | 245 | 145 |  16 |  7.2 | South America | 390 |\n| Brunei             |  31 |   2 |   1 |  0.6 | Asia          |  33 |\n| Bulgaria           | 231 | 252 |  94 | 10.3 | Europe        | 483 |\n| Burkina Faso       |  25 |   7 |   7 |  4.3 | Africa        |  32 |\n| Burundi            |  88 |   0 |   0 |  6.3 | Africa        |  88 |\n| Cote d'Ivoire      |  37 |   1 |   7 |  4.0 | Africa        |  38 |\n| Cabo Verde         | 144 |  56 |  16 |  4.0 | Africa        | 200 |\n| ⋮ | ⋮ | ⋮ | ⋮ | ⋮ | ⋮ | ⋮ |\n| Suriname             | 128 | 178 |   7 |  5.6 | South America | 306 |\n| Swaziland            |  90 |   2 |   2 |  4.7 | Africa        |  92 |\n| Sweden               | 152 |  60 | 186 |  7.2 | Europe        | 212 |\n| Switzerland          | 185 | 100 | 280 | 10.2 | Europe        | 285 |\n| Syria                |   5 |  35 |  16 |  1.0 | Asia          |  40 |\n| Tajikistan           |   2 |  15 |   0 |  0.3 | Asia          |  17 |\n| Thailand             |  99 | 258 |   1 |  6.4 | Asia          | 357 |\n| Macedonia            | 106 |  27 |  86 |  3.9 | Europe        | 133 |\n| Timor-Leste          |   1 |   1 |   4 |  0.1 | Asia          |   2 |\n| Togo                 |  36 |   2 |  19 |  1.3 | Africa        |  38 |\n| Tonga                |  36 |  21 |   5 |  1.1 | Oceania       |  57 |\n| Trinidad &amp; Tobago    | 197 | 156 |   7 |  6.4 | North America | 353 |\n| Tunisia              |  51 |   3 |  20 |  1.3 | Africa        |  54 |\n| Turkey               |  51 |  22 |   7 |  1.4 | Asia          |  73 |\n| Turkmenistan         |  19 |  71 |  32 |  2.2 | Asia          |  90 |\n| Tuvalu               |   6 |  41 |   9 |  1.0 | Oceania       |  47 |\n| Uganda               |  45 |   9 |   0 |  8.3 | Africa        |  54 |\n| Ukraine              | 206 | 237 |  45 |  8.9 | Europe        | 443 |\n| United Arab Emirates |  16 | 135 |   5 |  2.8 | Asia          | 151 |\n| United Kingdom       | 219 | 126 | 195 | 10.4 | Europe        | 345 |\n| Tanzania             |  36 |   6 |   1 |  5.7 | Africa        |  42 |\n| USA                  | 249 | 158 |  84 |  8.7 | North America | 407 |\n| Uruguay              | 115 |  35 | 220 |  6.6 | South America | 150 |\n| Uzbekistan           |  25 | 101 |   8 |  2.4 | Asia          | 126 |\n| Vanuatu              |  21 |  18 |  11 |  0.9 | Oceania       |  39 |\n| Venezuela            | 333 | 100 |   3 |  7.7 | South America | 433 |\n| Vietnam              | 111 |   2 |   1 |  2.0 | Asia          | 113 |\n| Yemen                |   6 |   0 |   0 |  0.1 | Asia          |   6 |\n| Zambia               |  32 |  19 |   4 |  2.5 | Africa        |  51 |\n| Zimbabwe             |  64 |  18 |   4 |  4.7 | Africa        |  82 |\n\n",
            "text/latex": "A grouped\\_df: 193 × 7\n\\begin{tabular}{lllllll}\n country & beer\\_servings & spirit\\_servings & wine\\_servings & total\\_litres\\_of\\_pure\\_alcohol & continent & total\\\\\n <chr> & <int> & <int> & <int> & <dbl> & <chr> & <int>\\\\\n\\hline\n\t Afghanistan        &   0 &   0 &   0 &  0.0 & Asia          &   0\\\\\n\t Albania            &  89 & 132 &  54 &  4.9 & Europe        & 221\\\\\n\t Algeria            &  25 &   0 &  14 &  0.7 & Africa        &  25\\\\\n\t Andorra            & 245 & 138 & 312 & 12.4 & Europe        & 383\\\\\n\t Angola             & 217 &  57 &  45 &  5.9 & Africa        & 274\\\\\n\t Antigua \\& Barbuda  & 102 & 128 &  45 &  4.9 & North America & 230\\\\\n\t Argentina          & 193 &  25 & 221 &  8.3 & South America & 218\\\\\n\t Armenia            &  21 & 179 &  11 &  3.8 & Europe        & 200\\\\\n\t Australia          & 261 &  72 & 212 & 10.4 & Oceania       & 333\\\\\n\t Austria            & 279 &  75 & 191 &  9.7 & Europe        & 354\\\\\n\t Azerbaijan         &  21 &  46 &   5 &  1.3 & Europe        &  67\\\\\n\t Bahamas            & 122 & 176 &  51 &  6.3 & North America & 298\\\\\n\t Bahrain            &  42 &  63 &   7 &  2.0 & Asia          & 105\\\\\n\t Bangladesh         &   0 &   0 &   0 &  0.0 & Asia          &   0\\\\\n\t Barbados           & 143 & 173 &  36 &  6.3 & North America & 316\\\\\n\t Belarus            & 142 & 373 &  42 & 14.4 & Europe        & 515\\\\\n\t Belgium            & 295 &  84 & 212 & 10.5 & Europe        & 379\\\\\n\t Belize             & 263 & 114 &   8 &  6.8 & North America & 377\\\\\n\t Benin              &  34 &   4 &  13 &  1.1 & Africa        &  38\\\\\n\t Bhutan             &  23 &   0 &   0 &  0.4 & Asia          &  23\\\\\n\t Bolivia            & 167 &  41 &   8 &  3.8 & South America & 208\\\\\n\t Bosnia-Herzegovina &  76 & 173 &   8 &  4.6 & Europe        & 249\\\\\n\t Botswana           & 173 &  35 &  35 &  5.4 & Africa        & 208\\\\\n\t Brazil             & 245 & 145 &  16 &  7.2 & South America & 390\\\\\n\t Brunei             &  31 &   2 &   1 &  0.6 & Asia          &  33\\\\\n\t Bulgaria           & 231 & 252 &  94 & 10.3 & Europe        & 483\\\\\n\t Burkina Faso       &  25 &   7 &   7 &  4.3 & Africa        &  32\\\\\n\t Burundi            &  88 &   0 &   0 &  6.3 & Africa        &  88\\\\\n\t Cote d'Ivoire      &  37 &   1 &   7 &  4.0 & Africa        &  38\\\\\n\t Cabo Verde         & 144 &  56 &  16 &  4.0 & Africa        & 200\\\\\n\t ⋮ & ⋮ & ⋮ & ⋮ & ⋮ & ⋮ & ⋮\\\\\n\t Suriname             & 128 & 178 &   7 &  5.6 & South America & 306\\\\\n\t Swaziland            &  90 &   2 &   2 &  4.7 & Africa        &  92\\\\\n\t Sweden               & 152 &  60 & 186 &  7.2 & Europe        & 212\\\\\n\t Switzerland          & 185 & 100 & 280 & 10.2 & Europe        & 285\\\\\n\t Syria                &   5 &  35 &  16 &  1.0 & Asia          &  40\\\\\n\t Tajikistan           &   2 &  15 &   0 &  0.3 & Asia          &  17\\\\\n\t Thailand             &  99 & 258 &   1 &  6.4 & Asia          & 357\\\\\n\t Macedonia            & 106 &  27 &  86 &  3.9 & Europe        & 133\\\\\n\t Timor-Leste          &   1 &   1 &   4 &  0.1 & Asia          &   2\\\\\n\t Togo                 &  36 &   2 &  19 &  1.3 & Africa        &  38\\\\\n\t Tonga                &  36 &  21 &   5 &  1.1 & Oceania       &  57\\\\\n\t Trinidad \\& Tobago    & 197 & 156 &   7 &  6.4 & North America & 353\\\\\n\t Tunisia              &  51 &   3 &  20 &  1.3 & Africa        &  54\\\\\n\t Turkey               &  51 &  22 &   7 &  1.4 & Asia          &  73\\\\\n\t Turkmenistan         &  19 &  71 &  32 &  2.2 & Asia          &  90\\\\\n\t Tuvalu               &   6 &  41 &   9 &  1.0 & Oceania       &  47\\\\\n\t Uganda               &  45 &   9 &   0 &  8.3 & Africa        &  54\\\\\n\t Ukraine              & 206 & 237 &  45 &  8.9 & Europe        & 443\\\\\n\t United Arab Emirates &  16 & 135 &   5 &  2.8 & Asia          & 151\\\\\n\t United Kingdom       & 219 & 126 & 195 & 10.4 & Europe        & 345\\\\\n\t Tanzania             &  36 &   6 &   1 &  5.7 & Africa        &  42\\\\\n\t USA                  & 249 & 158 &  84 &  8.7 & North America & 407\\\\\n\t Uruguay              & 115 &  35 & 220 &  6.6 & South America & 150\\\\\n\t Uzbekistan           &  25 & 101 &   8 &  2.4 & Asia          & 126\\\\\n\t Vanuatu              &  21 &  18 &  11 &  0.9 & Oceania       &  39\\\\\n\t Venezuela            & 333 & 100 &   3 &  7.7 & South America & 433\\\\\n\t Vietnam              & 111 &   2 &   1 &  2.0 & Asia          & 113\\\\\n\t Yemen                &   6 &   0 &   0 &  0.1 & Asia          &   6\\\\\n\t Zambia               &  32 &  19 &   4 &  2.5 & Africa        &  51\\\\\n\t Zimbabwe             &  64 &  18 &   4 &  4.7 & Africa        &  82\\\\\n\\end{tabular}\n",
            "text/plain": [
              "    country              beer_servings spirit_servings wine_servings\n",
              "1   Afghanistan            0             0               0          \n",
              "2   Albania               89           132              54          \n",
              "3   Algeria               25             0              14          \n",
              "4   Andorra              245           138             312          \n",
              "5   Angola               217            57              45          \n",
              "6   Antigua & Barbuda    102           128              45          \n",
              "7   Argentina            193            25             221          \n",
              "8   Armenia               21           179              11          \n",
              "9   Australia            261            72             212          \n",
              "10  Austria              279            75             191          \n",
              "11  Azerbaijan            21            46               5          \n",
              "12  Bahamas              122           176              51          \n",
              "13  Bahrain               42            63               7          \n",
              "14  Bangladesh             0             0               0          \n",
              "15  Barbados             143           173              36          \n",
              "16  Belarus              142           373              42          \n",
              "17  Belgium              295            84             212          \n",
              "18  Belize               263           114               8          \n",
              "19  Benin                 34             4              13          \n",
              "20  Bhutan                23             0               0          \n",
              "21  Bolivia              167            41               8          \n",
              "22  Bosnia-Herzegovina    76           173               8          \n",
              "23  Botswana             173            35              35          \n",
              "24  Brazil               245           145              16          \n",
              "25  Brunei                31             2               1          \n",
              "26  Bulgaria             231           252              94          \n",
              "27  Burkina Faso          25             7               7          \n",
              "28  Burundi               88             0               0          \n",
              "29  Cote d'Ivoire         37             1               7          \n",
              "30  Cabo Verde           144            56              16          \n",
              "⋮   ⋮                    ⋮             ⋮               ⋮            \n",
              "164 Suriname             128           178               7          \n",
              "165 Swaziland             90             2               2          \n",
              "166 Sweden               152            60             186          \n",
              "167 Switzerland          185           100             280          \n",
              "168 Syria                  5            35              16          \n",
              "169 Tajikistan             2            15               0          \n",
              "170 Thailand              99           258               1          \n",
              "171 Macedonia            106            27              86          \n",
              "172 Timor-Leste            1             1               4          \n",
              "173 Togo                  36             2              19          \n",
              "174 Tonga                 36            21               5          \n",
              "175 Trinidad & Tobago    197           156               7          \n",
              "176 Tunisia               51             3              20          \n",
              "177 Turkey                51            22               7          \n",
              "178 Turkmenistan          19            71              32          \n",
              "179 Tuvalu                 6            41               9          \n",
              "180 Uganda                45             9               0          \n",
              "181 Ukraine              206           237              45          \n",
              "182 United Arab Emirates  16           135               5          \n",
              "183 United Kingdom       219           126             195          \n",
              "184 Tanzania              36             6               1          \n",
              "185 USA                  249           158              84          \n",
              "186 Uruguay              115            35             220          \n",
              "187 Uzbekistan            25           101               8          \n",
              "188 Vanuatu               21            18              11          \n",
              "189 Venezuela            333           100               3          \n",
              "190 Vietnam              111             2               1          \n",
              "191 Yemen                  6             0               0          \n",
              "192 Zambia                32            19               4          \n",
              "193 Zimbabwe              64            18               4          \n",
              "    total_litres_of_pure_alcohol continent     total\n",
              "1    0.0                         Asia            0  \n",
              "2    4.9                         Europe        221  \n",
              "3    0.7                         Africa         25  \n",
              "4   12.4                         Europe        383  \n",
              "5    5.9                         Africa        274  \n",
              "6    4.9                         North America 230  \n",
              "7    8.3                         South America 218  \n",
              "8    3.8                         Europe        200  \n",
              "9   10.4                         Oceania       333  \n",
              "10   9.7                         Europe        354  \n",
              "11   1.3                         Europe         67  \n",
              "12   6.3                         North America 298  \n",
              "13   2.0                         Asia          105  \n",
              "14   0.0                         Asia            0  \n",
              "15   6.3                         North America 316  \n",
              "16  14.4                         Europe        515  \n",
              "17  10.5                         Europe        379  \n",
              "18   6.8                         North America 377  \n",
              "19   1.1                         Africa         38  \n",
              "20   0.4                         Asia           23  \n",
              "21   3.8                         South America 208  \n",
              "22   4.6                         Europe        249  \n",
              "23   5.4                         Africa        208  \n",
              "24   7.2                         South America 390  \n",
              "25   0.6                         Asia           33  \n",
              "26  10.3                         Europe        483  \n",
              "27   4.3                         Africa         32  \n",
              "28   6.3                         Africa         88  \n",
              "29   4.0                         Africa         38  \n",
              "30   4.0                         Africa        200  \n",
              "⋮   ⋮                            ⋮             ⋮    \n",
              "164  5.6                         South America 306  \n",
              "165  4.7                         Africa         92  \n",
              "166  7.2                         Europe        212  \n",
              "167 10.2                         Europe        285  \n",
              "168  1.0                         Asia           40  \n",
              "169  0.3                         Asia           17  \n",
              "170  6.4                         Asia          357  \n",
              "171  3.9                         Europe        133  \n",
              "172  0.1                         Asia            2  \n",
              "173  1.3                         Africa         38  \n",
              "174  1.1                         Oceania        57  \n",
              "175  6.4                         North America 353  \n",
              "176  1.3                         Africa         54  \n",
              "177  1.4                         Asia           73  \n",
              "178  2.2                         Asia           90  \n",
              "179  1.0                         Oceania        47  \n",
              "180  8.3                         Africa         54  \n",
              "181  8.9                         Europe        443  \n",
              "182  2.8                         Asia          151  \n",
              "183 10.4                         Europe        345  \n",
              "184  5.7                         Africa         42  \n",
              "185  8.7                         North America 407  \n",
              "186  6.6                         South America 150  \n",
              "187  2.4                         Asia          126  \n",
              "188  0.9                         Oceania        39  \n",
              "189  7.7                         South America 433  \n",
              "190  2.0                         Asia          113  \n",
              "191  0.1                         Asia            6  \n",
              "192  2.5                         Africa         51  \n",
              "193  4.7                         Africa         82  "
            ]
          },
          "metadata": {}
        }
      ]
    },
    {
      "cell_type": "code",
      "source": [
        "df %>% group_by(country) %>% summarize(max(total))"
      ],
      "metadata": {
        "colab": {
          "base_uri": "https://localhost:8080/",
          "height": 1000
        },
        "id": "9fiFumRJ8t7d",
        "outputId": "41304415-f675-4599-fdbf-4ab78be24880"
      },
      "execution_count": null,
      "outputs": [
        {
          "output_type": "display_data",
          "data": {
            "text/html": [
              "<table class=\"dataframe\">\n",
              "<caption>A tibble: 193 × 2</caption>\n",
              "<thead>\n",
              "\t<tr><th scope=col>country</th><th scope=col>max(total)</th></tr>\n",
              "\t<tr><th scope=col>&lt;chr&gt;</th><th scope=col>&lt;int&gt;</th></tr>\n",
              "</thead>\n",
              "<tbody>\n",
              "\t<tr><td>Afghanistan       </td><td>  0</td></tr>\n",
              "\t<tr><td>Albania           </td><td>221</td></tr>\n",
              "\t<tr><td>Algeria           </td><td> 25</td></tr>\n",
              "\t<tr><td>Andorra           </td><td>383</td></tr>\n",
              "\t<tr><td>Angola            </td><td>274</td></tr>\n",
              "\t<tr><td>Antigua &amp; Barbuda </td><td>230</td></tr>\n",
              "\t<tr><td>Argentina         </td><td>218</td></tr>\n",
              "\t<tr><td>Armenia           </td><td>200</td></tr>\n",
              "\t<tr><td>Australia         </td><td>333</td></tr>\n",
              "\t<tr><td>Austria           </td><td>354</td></tr>\n",
              "\t<tr><td>Azerbaijan        </td><td> 67</td></tr>\n",
              "\t<tr><td>Bahamas           </td><td>298</td></tr>\n",
              "\t<tr><td>Bahrain           </td><td>105</td></tr>\n",
              "\t<tr><td>Bangladesh        </td><td>  0</td></tr>\n",
              "\t<tr><td>Barbados          </td><td>316</td></tr>\n",
              "\t<tr><td>Belarus           </td><td>515</td></tr>\n",
              "\t<tr><td>Belgium           </td><td>379</td></tr>\n",
              "\t<tr><td>Belize            </td><td>377</td></tr>\n",
              "\t<tr><td>Benin             </td><td> 38</td></tr>\n",
              "\t<tr><td>Bhutan            </td><td> 23</td></tr>\n",
              "\t<tr><td>Bolivia           </td><td>208</td></tr>\n",
              "\t<tr><td>Bosnia-Herzegovina</td><td>249</td></tr>\n",
              "\t<tr><td>Botswana          </td><td>208</td></tr>\n",
              "\t<tr><td>Brazil            </td><td>390</td></tr>\n",
              "\t<tr><td>Brunei            </td><td> 33</td></tr>\n",
              "\t<tr><td>Bulgaria          </td><td>483</td></tr>\n",
              "\t<tr><td>Burkina Faso      </td><td> 32</td></tr>\n",
              "\t<tr><td>Burundi           </td><td> 88</td></tr>\n",
              "\t<tr><td>Cabo Verde        </td><td>200</td></tr>\n",
              "\t<tr><td>Cambodia          </td><td>122</td></tr>\n",
              "\t<tr><td>⋮</td><td>⋮</td></tr>\n",
              "\t<tr><td>Sudan               </td><td> 21</td></tr>\n",
              "\t<tr><td>Suriname            </td><td>306</td></tr>\n",
              "\t<tr><td>Swaziland           </td><td> 92</td></tr>\n",
              "\t<tr><td>Sweden              </td><td>212</td></tr>\n",
              "\t<tr><td>Switzerland         </td><td>285</td></tr>\n",
              "\t<tr><td>Syria               </td><td> 40</td></tr>\n",
              "\t<tr><td>Tajikistan          </td><td> 17</td></tr>\n",
              "\t<tr><td>Tanzania            </td><td> 42</td></tr>\n",
              "\t<tr><td>Thailand            </td><td>357</td></tr>\n",
              "\t<tr><td>Timor-Leste         </td><td>  2</td></tr>\n",
              "\t<tr><td>Togo                </td><td> 38</td></tr>\n",
              "\t<tr><td>Tonga               </td><td> 57</td></tr>\n",
              "\t<tr><td><span style=white-space:pre-wrap>Trinidad &amp; Tobago   </span></td><td>353</td></tr>\n",
              "\t<tr><td>Tunisia             </td><td> 54</td></tr>\n",
              "\t<tr><td>Turkey              </td><td> 73</td></tr>\n",
              "\t<tr><td>Turkmenistan        </td><td> 90</td></tr>\n",
              "\t<tr><td>Tuvalu              </td><td> 47</td></tr>\n",
              "\t<tr><td>USA                 </td><td>407</td></tr>\n",
              "\t<tr><td>Uganda              </td><td> 54</td></tr>\n",
              "\t<tr><td>Ukraine             </td><td>443</td></tr>\n",
              "\t<tr><td>United Arab Emirates</td><td>151</td></tr>\n",
              "\t<tr><td>United Kingdom      </td><td>345</td></tr>\n",
              "\t<tr><td>Uruguay             </td><td>150</td></tr>\n",
              "\t<tr><td>Uzbekistan          </td><td>126</td></tr>\n",
              "\t<tr><td>Vanuatu             </td><td> 39</td></tr>\n",
              "\t<tr><td>Venezuela           </td><td>433</td></tr>\n",
              "\t<tr><td>Vietnam             </td><td>113</td></tr>\n",
              "\t<tr><td>Yemen               </td><td>  6</td></tr>\n",
              "\t<tr><td>Zambia              </td><td> 51</td></tr>\n",
              "\t<tr><td>Zimbabwe            </td><td> 82</td></tr>\n",
              "</tbody>\n",
              "</table>\n"
            ],
            "text/markdown": "\nA tibble: 193 × 2\n\n| country &lt;chr&gt; | max(total) &lt;int&gt; |\n|---|---|\n| Afghanistan        |   0 |\n| Albania            | 221 |\n| Algeria            |  25 |\n| Andorra            | 383 |\n| Angola             | 274 |\n| Antigua &amp; Barbuda  | 230 |\n| Argentina          | 218 |\n| Armenia            | 200 |\n| Australia          | 333 |\n| Austria            | 354 |\n| Azerbaijan         |  67 |\n| Bahamas            | 298 |\n| Bahrain            | 105 |\n| Bangladesh         |   0 |\n| Barbados           | 316 |\n| Belarus            | 515 |\n| Belgium            | 379 |\n| Belize             | 377 |\n| Benin              |  38 |\n| Bhutan             |  23 |\n| Bolivia            | 208 |\n| Bosnia-Herzegovina | 249 |\n| Botswana           | 208 |\n| Brazil             | 390 |\n| Brunei             |  33 |\n| Bulgaria           | 483 |\n| Burkina Faso       |  32 |\n| Burundi            |  88 |\n| Cabo Verde         | 200 |\n| Cambodia           | 122 |\n| ⋮ | ⋮ |\n| Sudan                |  21 |\n| Suriname             | 306 |\n| Swaziland            |  92 |\n| Sweden               | 212 |\n| Switzerland          | 285 |\n| Syria                |  40 |\n| Tajikistan           |  17 |\n| Tanzania             |  42 |\n| Thailand             | 357 |\n| Timor-Leste          |   2 |\n| Togo                 |  38 |\n| Tonga                |  57 |\n| Trinidad &amp; Tobago    | 353 |\n| Tunisia              |  54 |\n| Turkey               |  73 |\n| Turkmenistan         |  90 |\n| Tuvalu               |  47 |\n| USA                  | 407 |\n| Uganda               |  54 |\n| Ukraine              | 443 |\n| United Arab Emirates | 151 |\n| United Kingdom       | 345 |\n| Uruguay              | 150 |\n| Uzbekistan           | 126 |\n| Vanuatu              |  39 |\n| Venezuela            | 433 |\n| Vietnam              | 113 |\n| Yemen                |   6 |\n| Zambia               |  51 |\n| Zimbabwe             |  82 |\n\n",
            "text/latex": "A tibble: 193 × 2\n\\begin{tabular}{ll}\n country & max(total)\\\\\n <chr> & <int>\\\\\n\\hline\n\t Afghanistan        &   0\\\\\n\t Albania            & 221\\\\\n\t Algeria            &  25\\\\\n\t Andorra            & 383\\\\\n\t Angola             & 274\\\\\n\t Antigua \\& Barbuda  & 230\\\\\n\t Argentina          & 218\\\\\n\t Armenia            & 200\\\\\n\t Australia          & 333\\\\\n\t Austria            & 354\\\\\n\t Azerbaijan         &  67\\\\\n\t Bahamas            & 298\\\\\n\t Bahrain            & 105\\\\\n\t Bangladesh         &   0\\\\\n\t Barbados           & 316\\\\\n\t Belarus            & 515\\\\\n\t Belgium            & 379\\\\\n\t Belize             & 377\\\\\n\t Benin              &  38\\\\\n\t Bhutan             &  23\\\\\n\t Bolivia            & 208\\\\\n\t Bosnia-Herzegovina & 249\\\\\n\t Botswana           & 208\\\\\n\t Brazil             & 390\\\\\n\t Brunei             &  33\\\\\n\t Bulgaria           & 483\\\\\n\t Burkina Faso       &  32\\\\\n\t Burundi            &  88\\\\\n\t Cabo Verde         & 200\\\\\n\t Cambodia           & 122\\\\\n\t ⋮ & ⋮\\\\\n\t Sudan                &  21\\\\\n\t Suriname             & 306\\\\\n\t Swaziland            &  92\\\\\n\t Sweden               & 212\\\\\n\t Switzerland          & 285\\\\\n\t Syria                &  40\\\\\n\t Tajikistan           &  17\\\\\n\t Tanzania             &  42\\\\\n\t Thailand             & 357\\\\\n\t Timor-Leste          &   2\\\\\n\t Togo                 &  38\\\\\n\t Tonga                &  57\\\\\n\t Trinidad \\& Tobago    & 353\\\\\n\t Tunisia              &  54\\\\\n\t Turkey               &  73\\\\\n\t Turkmenistan         &  90\\\\\n\t Tuvalu               &  47\\\\\n\t USA                  & 407\\\\\n\t Uganda               &  54\\\\\n\t Ukraine              & 443\\\\\n\t United Arab Emirates & 151\\\\\n\t United Kingdom       & 345\\\\\n\t Uruguay              & 150\\\\\n\t Uzbekistan           & 126\\\\\n\t Vanuatu              &  39\\\\\n\t Venezuela            & 433\\\\\n\t Vietnam              & 113\\\\\n\t Yemen                &   6\\\\\n\t Zambia               &  51\\\\\n\t Zimbabwe             &  82\\\\\n\\end{tabular}\n",
            "text/plain": [
              "    country              max(total)\n",
              "1   Afghanistan            0       \n",
              "2   Albania              221       \n",
              "3   Algeria               25       \n",
              "4   Andorra              383       \n",
              "5   Angola               274       \n",
              "6   Antigua & Barbuda    230       \n",
              "7   Argentina            218       \n",
              "8   Armenia              200       \n",
              "9   Australia            333       \n",
              "10  Austria              354       \n",
              "11  Azerbaijan            67       \n",
              "12  Bahamas              298       \n",
              "13  Bahrain              105       \n",
              "14  Bangladesh             0       \n",
              "15  Barbados             316       \n",
              "16  Belarus              515       \n",
              "17  Belgium              379       \n",
              "18  Belize               377       \n",
              "19  Benin                 38       \n",
              "20  Bhutan                23       \n",
              "21  Bolivia              208       \n",
              "22  Bosnia-Herzegovina   249       \n",
              "23  Botswana             208       \n",
              "24  Brazil               390       \n",
              "25  Brunei                33       \n",
              "26  Bulgaria             483       \n",
              "27  Burkina Faso          32       \n",
              "28  Burundi               88       \n",
              "29  Cabo Verde           200       \n",
              "30  Cambodia             122       \n",
              "⋮   ⋮                    ⋮         \n",
              "164 Sudan                 21       \n",
              "165 Suriname             306       \n",
              "166 Swaziland             92       \n",
              "167 Sweden               212       \n",
              "168 Switzerland          285       \n",
              "169 Syria                 40       \n",
              "170 Tajikistan            17       \n",
              "171 Tanzania              42       \n",
              "172 Thailand             357       \n",
              "173 Timor-Leste            2       \n",
              "174 Togo                  38       \n",
              "175 Tonga                 57       \n",
              "176 Trinidad & Tobago    353       \n",
              "177 Tunisia               54       \n",
              "178 Turkey                73       \n",
              "179 Turkmenistan          90       \n",
              "180 Tuvalu                47       \n",
              "181 USA                  407       \n",
              "182 Uganda                54       \n",
              "183 Ukraine              443       \n",
              "184 United Arab Emirates 151       \n",
              "185 United Kingdom       345       \n",
              "186 Uruguay              150       \n",
              "187 Uzbekistan           126       \n",
              "188 Vanuatu               39       \n",
              "189 Venezuela            433       \n",
              "190 Vietnam              113       \n",
              "191 Yemen                  6       \n",
              "192 Zambia                51       \n",
              "193 Zimbabwe              82       "
            ]
          },
          "metadata": {}
        }
      ]
    },
    {
      "cell_type": "code",
      "source": [
        "data<-morley\n",
        "ab<- head(data)\n",
        "ab %>% group_by(Speed) %>%\n",
        "summarize_if(is.numeric,mean)"
      ],
      "metadata": {
        "colab": {
          "base_uri": "https://localhost:8080/",
          "height": 255
        },
        "id": "oHfLCjjt90KB",
        "outputId": "dbd6ba80-59a9-4e7e-d73a-2ee7b01a677e"
      },
      "execution_count": null,
      "outputs": [
        {
          "output_type": "display_data",
          "data": {
            "text/html": [
              "<table class=\"dataframe\">\n",
              "<caption>A tibble: 5 × 3</caption>\n",
              "<thead>\n",
              "\t<tr><th scope=col>Speed</th><th scope=col>Expt</th><th scope=col>Run</th></tr>\n",
              "\t<tr><th scope=col>&lt;int&gt;</th><th scope=col>&lt;dbl&gt;</th><th scope=col>&lt;dbl&gt;</th></tr>\n",
              "</thead>\n",
              "<tbody>\n",
              "\t<tr><td> 740</td><td>1</td><td>2.0</td></tr>\n",
              "\t<tr><td> 850</td><td>1</td><td>3.5</td></tr>\n",
              "\t<tr><td> 900</td><td>1</td><td>3.0</td></tr>\n",
              "\t<tr><td> 930</td><td>1</td><td>5.0</td></tr>\n",
              "\t<tr><td>1070</td><td>1</td><td>4.0</td></tr>\n",
              "</tbody>\n",
              "</table>\n"
            ],
            "text/markdown": "\nA tibble: 5 × 3\n\n| Speed &lt;int&gt; | Expt &lt;dbl&gt; | Run &lt;dbl&gt; |\n|---|---|---|\n|  740 | 1 | 2.0 |\n|  850 | 1 | 3.5 |\n|  900 | 1 | 3.0 |\n|  930 | 1 | 5.0 |\n| 1070 | 1 | 4.0 |\n\n",
            "text/latex": "A tibble: 5 × 3\n\\begin{tabular}{lll}\n Speed & Expt & Run\\\\\n <int> & <dbl> & <dbl>\\\\\n\\hline\n\t  740 & 1 & 2.0\\\\\n\t  850 & 1 & 3.5\\\\\n\t  900 & 1 & 3.0\\\\\n\t  930 & 1 & 5.0\\\\\n\t 1070 & 1 & 4.0\\\\\n\\end{tabular}\n",
            "text/plain": [
              "  Speed Expt Run\n",
              "1  740  1    2.0\n",
              "2  850  1    3.5\n",
              "3  900  1    3.0\n",
              "4  930  1    5.0\n",
              "5 1070  1    4.0"
            ]
          },
          "metadata": {}
        }
      ]
    },
    {
      "cell_type": "code",
      "source": [
        "morley$Expt"
      ],
      "metadata": {
        "colab": {
          "base_uri": "https://localhost:8080/",
          "height": 86
        },
        "id": "-BWW0-4kSwL5",
        "outputId": "40ac05c7-7bd8-41c4-832a-ee46e5d89490"
      },
      "execution_count": null,
      "outputs": [
        {
          "output_type": "display_data",
          "data": {
            "text/html": [
              "<style>\n",
              ".list-inline {list-style: none; margin:0; padding: 0}\n",
              ".list-inline>li {display: inline-block}\n",
              ".list-inline>li:not(:last-child)::after {content: \"\\00b7\"; padding: 0 .5ex}\n",
              "</style>\n",
              "<ol class=list-inline><li>1</li><li>1</li><li>1</li><li>1</li><li>1</li><li>1</li><li>1</li><li>1</li><li>1</li><li>1</li><li>1</li><li>1</li><li>1</li><li>1</li><li>1</li><li>1</li><li>1</li><li>1</li><li>1</li><li>1</li><li>2</li><li>2</li><li>2</li><li>2</li><li>2</li><li>2</li><li>2</li><li>2</li><li>2</li><li>2</li><li>2</li><li>2</li><li>2</li><li>2</li><li>2</li><li>2</li><li>2</li><li>2</li><li>2</li><li>2</li><li>3</li><li>3</li><li>3</li><li>3</li><li>3</li><li>3</li><li>3</li><li>3</li><li>3</li><li>3</li><li>3</li><li>3</li><li>3</li><li>3</li><li>3</li><li>3</li><li>3</li><li>3</li><li>3</li><li>3</li><li>4</li><li>4</li><li>4</li><li>4</li><li>4</li><li>4</li><li>4</li><li>4</li><li>4</li><li>4</li><li>4</li><li>4</li><li>4</li><li>4</li><li>4</li><li>4</li><li>4</li><li>4</li><li>4</li><li>4</li><li>5</li><li>5</li><li>5</li><li>5</li><li>5</li><li>5</li><li>5</li><li>5</li><li>5</li><li>5</li><li>5</li><li>5</li><li>5</li><li>5</li><li>5</li><li>5</li><li>5</li><li>5</li><li>5</li><li>5</li></ol>\n"
            ],
            "text/markdown": "1. 1\n2. 1\n3. 1\n4. 1\n5. 1\n6. 1\n7. 1\n8. 1\n9. 1\n10. 1\n11. 1\n12. 1\n13. 1\n14. 1\n15. 1\n16. 1\n17. 1\n18. 1\n19. 1\n20. 1\n21. 2\n22. 2\n23. 2\n24. 2\n25. 2\n26. 2\n27. 2\n28. 2\n29. 2\n30. 2\n31. 2\n32. 2\n33. 2\n34. 2\n35. 2\n36. 2\n37. 2\n38. 2\n39. 2\n40. 2\n41. 3\n42. 3\n43. 3\n44. 3\n45. 3\n46. 3\n47. 3\n48. 3\n49. 3\n50. 3\n51. 3\n52. 3\n53. 3\n54. 3\n55. 3\n56. 3\n57. 3\n58. 3\n59. 3\n60. 3\n61. 4\n62. 4\n63. 4\n64. 4\n65. 4\n66. 4\n67. 4\n68. 4\n69. 4\n70. 4\n71. 4\n72. 4\n73. 4\n74. 4\n75. 4\n76. 4\n77. 4\n78. 4\n79. 4\n80. 4\n81. 5\n82. 5\n83. 5\n84. 5\n85. 5\n86. 5\n87. 5\n88. 5\n89. 5\n90. 5\n91. 5\n92. 5\n93. 5\n94. 5\n95. 5\n96. 5\n97. 5\n98. 5\n99. 5\n100. 5\n\n\n",
            "text/latex": "\\begin{enumerate*}\n\\item 1\n\\item 1\n\\item 1\n\\item 1\n\\item 1\n\\item 1\n\\item 1\n\\item 1\n\\item 1\n\\item 1\n\\item 1\n\\item 1\n\\item 1\n\\item 1\n\\item 1\n\\item 1\n\\item 1\n\\item 1\n\\item 1\n\\item 1\n\\item 2\n\\item 2\n\\item 2\n\\item 2\n\\item 2\n\\item 2\n\\item 2\n\\item 2\n\\item 2\n\\item 2\n\\item 2\n\\item 2\n\\item 2\n\\item 2\n\\item 2\n\\item 2\n\\item 2\n\\item 2\n\\item 2\n\\item 2\n\\item 3\n\\item 3\n\\item 3\n\\item 3\n\\item 3\n\\item 3\n\\item 3\n\\item 3\n\\item 3\n\\item 3\n\\item 3\n\\item 3\n\\item 3\n\\item 3\n\\item 3\n\\item 3\n\\item 3\n\\item 3\n\\item 3\n\\item 3\n\\item 4\n\\item 4\n\\item 4\n\\item 4\n\\item 4\n\\item 4\n\\item 4\n\\item 4\n\\item 4\n\\item 4\n\\item 4\n\\item 4\n\\item 4\n\\item 4\n\\item 4\n\\item 4\n\\item 4\n\\item 4\n\\item 4\n\\item 4\n\\item 5\n\\item 5\n\\item 5\n\\item 5\n\\item 5\n\\item 5\n\\item 5\n\\item 5\n\\item 5\n\\item 5\n\\item 5\n\\item 5\n\\item 5\n\\item 5\n\\item 5\n\\item 5\n\\item 5\n\\item 5\n\\item 5\n\\item 5\n\\end{enumerate*}\n",
            "text/plain": [
              "  [1] 1 1 1 1 1 1 1 1 1 1 1 1 1 1 1 1 1 1 1 1 2 2 2 2 2 2 2 2 2 2 2 2 2 2 2 2 2\n",
              " [38] 2 2 2 3 3 3 3 3 3 3 3 3 3 3 3 3 3 3 3 3 3 3 3 4 4 4 4 4 4 4 4 4 4 4 4 4 4\n",
              " [75] 4 4 4 4 4 4 5 5 5 5 5 5 5 5 5 5 5 5 5 5 5 5 5 5 5 5"
            ]
          },
          "metadata": {}
        }
      ]
    },
    {
      "cell_type": "markdown",
      "source": [
        "**Making Bar Plot**"
      ],
      "metadata": {
        "id": "_uRgls9MTBCJ"
      }
    },
    {
      "cell_type": "code",
      "source": [
        "barplot(morley$Run,\n",
        "main=\"MORLEY VISUAL BAR PLOT\",\n",
        "xlab=\"Expt\",\n",
        "ylab=\"Speed\",\n",
        "col=\"blue\",\n",
        "border=\"black\")"
      ],
      "metadata": {
        "colab": {
          "base_uri": "https://localhost:8080/",
          "height": 437
        },
        "id": "1itsclepS7in",
        "outputId": "a8ae51cf-47d9-4924-ee25-df6c2f6b71ce"
      },
      "execution_count": null,
      "outputs": [
        {
          "output_type": "display_data",
          "data": {
            "text/plain": [
              "Plot with title “MORLEY VISUAL BAR PLOT”"
            ],
            "image/png": "[encoded data removed]"
          },
          "metadata": {
            "image/png": {
              "width": 420,
              "height": 420
            }
          }
        }
      ]
    },
    {
      "cell_type": "code",
      "source": [
        "data<-trees\n",
        "head(trees,n=2)"
      ],
      "metadata": {
        "colab": {
          "base_uri": "https://localhost:8080/",
          "height": 161
        },
        "id": "xoXa5Hlikfa-",
        "outputId": "cb4ca368-6e46-4a18-f85c-3723daf8208d"
      },
      "execution_count": null,
      "outputs": [
        {
          "output_type": "display_data",
          "data": {
            "text/html": [
              "<table class=\"dataframe\">\n",
              "<caption>A data.frame: 2 × 3</caption>\n",
              "<thead>\n",
              "\t<tr><th></th><th scope=col>Girth</th><th scope=col>Height</th><th scope=col>Volume</th></tr>\n",
              "\t<tr><th></th><th scope=col>&lt;dbl&gt;</th><th scope=col>&lt;dbl&gt;</th><th scope=col>&lt;dbl&gt;</th></tr>\n",
              "</thead>\n",
              "<tbody>\n",
              "\t<tr><th scope=row>1</th><td>8.3</td><td>70</td><td>10.3</td></tr>\n",
              "\t<tr><th scope=row>2</th><td>8.6</td><td>65</td><td>10.3</td></tr>\n",
              "</tbody>\n",
              "</table>\n"
            ],
            "text/markdown": "\nA data.frame: 2 × 3\n\n| <!--/--> | Girth &lt;dbl&gt; | Height &lt;dbl&gt; | Volume &lt;dbl&gt; |\n|---|---|---|---|\n| 1 | 8.3 | 70 | 10.3 |\n| 2 | 8.6 | 65 | 10.3 |\n\n",
            "text/latex": "A data.frame: 2 × 3\n\\begin{tabular}{r|lll}\n  & Girth & Height & Volume\\\\\n  & <dbl> & <dbl> & <dbl>\\\\\n\\hline\n\t1 & 8.3 & 70 & 10.3\\\\\n\t2 & 8.6 & 65 & 10.3\\\\\n\\end{tabular}\n",
            "text/plain": [
              "  Girth Height Volume\n",
              "1 8.3   70     10.3  \n",
              "2 8.6   65     10.3  "
            ]
          },
          "metadata": {}
        }
      ]
    },
    {
      "cell_type": "code",
      "source": [
        "barplot(trees$Girth,\n",
        "main=\"Diameter, Height and Volume for Black Cherry\",\n",
        "horiz=TRUE,\n",
        "xlab=\"Height\",\n",
        "ylab=\"Volume\",\n",
        "col=\"red\",\n",
        "border=\"black\")"
      ],
      "metadata": {
        "colab": {
          "base_uri": "https://localhost:8080/",
          "height": 437
        },
        "id": "ts9Dyrq0lJ1u",
        "outputId": "a538a6d2-6f67-4cf5-d32b-824be2b67bdb"
      },
      "execution_count": null,
      "outputs": [
        {
          "output_type": "display_data",
          "data": {
            "text/plain": [
              "Plot with title “Diameter, Height and Volume for Black Cherry”"
            ],
            "image/png": "[encoded data removed]"
          },
          "metadata": {
            "image/png": {
              "width": 420,
              "height": 420
            }
          }
        }
      ]
    },
    {
      "cell_type": "code",
      "source": [
        "# Create the input vectors.\n",
        "fruits=c(\"apple\",\"orange\",\"banana\")\n",
        "months<-c(\"Mar\",\"Apr\",\"May\",\"Jun\",\"Jul\")\n",
        "citys<-c(\"Nagpur\",\"Mumbai\",\"Pune\")\n",
        "\n",
        "# Create the matrix of the values.\n",
        "Values <- matrix(c(2,9,3,11,9,4,8,7,3,12,5,2,8,10,11), nrow = 3, ncol = 5, byrow = TRUE)\n",
        "\n",
        "# Give the chart file a name\n",
        "png(file = \"fruitsvsmonth.png\")\n",
        "\n",
        "# Create the bar chart\n",
        "barplot(Values,\n",
        "main = \"total revenue\",\n",
        "names.arg = months,\n",
        "xlab = \"months\",\n",
        "ylab = \"revenue\",\n",
        "col = colors)\n",
        "\n",
        "# Add the legend to the chart\n",
        "legend(\"topleft\", citys, cex = 1.3, fill = colors)\n",
        "\n",
        "# Save the file\n",
        "dev.off()"
      ],
      "metadata": {
        "colab": {
          "base_uri": "https://localhost:8080/",
          "height": 34
        },
        "id": "KQvn1wOWmiCF",
        "outputId": "1ce8c6e4-c2ec-4af6-e24e-59920e476509"
      },
      "execution_count": null,
      "outputs": [
        {
          "output_type": "display_data",
          "data": {
            "text/html": [
              "<strong>png:</strong> 2"
            ],
            "text/markdown": "**png:** 2",
            "text/latex": "\\textbf{png:} 2",
            "text/plain": [
              "png \n",
              "  2 "
            ]
          },
          "metadata": {}
        }
      ]
    },
    {
      "cell_type": "code",
      "source": [
        "trees$Height"
      ],
      "metadata": {
        "colab": {
          "base_uri": "https://localhost:8080/",
          "height": 52
        },
        "id": "oULup5QmpYL8",
        "outputId": "b4c56e54-ad04-49e2-f841-4f3f90cf0453"
      },
      "execution_count": null,
      "outputs": [
        {
          "output_type": "display_data",
          "data": {
            "text/html": [
              "<style>\n",
              ".list-inline {list-style: none; margin:0; padding: 0}\n",
              ".list-inline>li {display: inline-block}\n",
              ".list-inline>li:not(:last-child)::after {content: \"\\00b7\"; padding: 0 .5ex}\n",
              "</style>\n",
              "<ol class=list-inline><li>70</li><li>65</li><li>63</li><li>72</li><li>81</li><li>83</li><li>66</li><li>75</li><li>80</li><li>75</li><li>79</li><li>76</li><li>76</li><li>69</li><li>75</li><li>74</li><li>85</li><li>86</li><li>71</li><li>64</li><li>78</li><li>80</li><li>74</li><li>72</li><li>77</li><li>81</li><li>82</li><li>80</li><li>80</li><li>80</li><li>87</li></ol>\n"
            ],
            "text/markdown": "1. 70\n2. 65\n3. 63\n4. 72\n5. 81\n6. 83\n7. 66\n8. 75\n9. 80\n10. 75\n11. 79\n12. 76\n13. 76\n14. 69\n15. 75\n16. 74\n17. 85\n18. 86\n19. 71\n20. 64\n21. 78\n22. 80\n23. 74\n24. 72\n25. 77\n26. 81\n27. 82\n28. 80\n29. 80\n30. 80\n31. 87\n\n\n",
            "text/latex": "\\begin{enumerate*}\n\\item 70\n\\item 65\n\\item 63\n\\item 72\n\\item 81\n\\item 83\n\\item 66\n\\item 75\n\\item 80\n\\item 75\n\\item 79\n\\item 76\n\\item 76\n\\item 69\n\\item 75\n\\item 74\n\\item 85\n\\item 86\n\\item 71\n\\item 64\n\\item 78\n\\item 80\n\\item 74\n\\item 72\n\\item 77\n\\item 81\n\\item 82\n\\item 80\n\\item 80\n\\item 80\n\\item 87\n\\end{enumerate*}\n",
            "text/plain": [
              " [1] 70 65 63 72 81 83 66 75 80 75 79 76 76 69 75 74 85 86 71 64 78 80 74 72 77\n",
              "[26] 81 82 80 80 80 87"
            ]
          },
          "metadata": {}
        }
      ]
    },
    {
      "cell_type": "code",
      "source": [
        "hist(trees$Height,\n",
        "main=\"Diameter,height and volume\",\n",
        "\n",
        "xlab=\"Height\",\n",
        "freq=TRUE,\n",
        "col=\"green\",\n",
        "border=\"black\")"
      ],
      "metadata": {
        "colab": {
          "base_uri": "https://localhost:8080/",
          "height": 437
        },
        "id": "0GBl-ex5p3W1",
        "outputId": "b985acfd-7aab-482d-eb45-63ed4322316e"
      },
      "execution_count": null,
      "outputs": [
        {
          "output_type": "display_data",
          "data": {
            "text/plain": [
              "Plot with title “Diameter,height and volume”"
            ],
            "image/png": "[encoded data removed]"
          },
          "metadata": {
            "image/png": {
              "width": 420,
              "height": 420
            }
          }
        }
      ]
    },
    {
      "cell_type": "code",
      "source": [
        "boxplot(trees$Height,\n",
        "       main=\"AVG VOLUME PER GIRTH\",\n",
        "       xlab=\"volume per height\",\n",
        "       ylab=\"girth\",\n",
        "       col=\"brown\", border=\"green\",\n",
        "       horizontal=TRUE,notch=FALSE)"
      ],
      "metadata": {
        "colab": {
          "base_uri": "https://localhost:8080/",
          "height": 437
        },
        "id": "9sDeGEDZqWEw",
        "outputId": "549a5176-77e5-4afe-d24c-cebee13a3a22"
      },
      "execution_count": null,
      "outputs": [
        {
          "output_type": "display_data",
          "data": {
            "text/plain": [
              "Plot with title “AVG VOLUME PER GIRTH”"
            ],
            "image/png": "[encoded data removed]"
          },
          "metadata": {
            "image/png": {
              "width": 420,
              "height": 420
            }
          }
        }
      ]
    },
    {
      "cell_type": "code",
      "source": [
        "plot(airquality$Ozone, airquality$Month,\n",
        "     main =\"Scatterplot Example\",\n",
        "    xlab =\"Ozone Concentration in parts per billion\",\n",
        "    ylab =\" Month of observation \", pch =1)"
      ],
      "metadata": {
        "colab": {
          "base_uri": "https://localhost:8080/",
          "height": 437
        },
        "id": "TTduT-30rkzf",
        "outputId": "597d8cff-2289-4801-97d1-48a193ed28b8"
      },
      "execution_count": null,
      "outputs": [
        {
          "output_type": "display_data",
          "data": {
            "text/plain": [
              "Plot with title “Scatterplot Example”"
            ],
            "image/png": "[encoded data removed]"
          },
          "metadata": {
            "image/png": {
              "width": 420,
              "height": 420
            }
          }
        }
      ]
    },
    {
      "cell_type": "code",
      "source": [
        "data(iris)\n",
        "head(iris)"
      ],
      "metadata": {
        "colab": {
          "base_uri": "https://localhost:8080/",
          "height": 286
        },
        "id": "dnip5ivcrorm",
        "outputId": "b7437ef8-cb56-4ae2-e5df-1f8b6c5dbb29"
      },
      "execution_count": null,
      "outputs": [
        {
          "output_type": "display_data",
          "data": {
            "text/html": [
              "<table class=\"dataframe\">\n",
              "<caption>A data.frame: 6 × 5</caption>\n",
              "<thead>\n",
              "\t<tr><th></th><th scope=col>Sepal.Length</th><th scope=col>Sepal.Width</th><th scope=col>Petal.Length</th><th scope=col>Petal.Width</th><th scope=col>Species</th></tr>\n",
              "\t<tr><th></th><th scope=col>&lt;dbl&gt;</th><th scope=col>&lt;dbl&gt;</th><th scope=col>&lt;dbl&gt;</th><th scope=col>&lt;dbl&gt;</th><th scope=col>&lt;fct&gt;</th></tr>\n",
              "</thead>\n",
              "<tbody>\n",
              "\t<tr><th scope=row>1</th><td>5.1</td><td>3.5</td><td>1.4</td><td>0.2</td><td>setosa</td></tr>\n",
              "\t<tr><th scope=row>2</th><td>4.9</td><td>3.0</td><td>1.4</td><td>0.2</td><td>setosa</td></tr>\n",
              "\t<tr><th scope=row>3</th><td>4.7</td><td>3.2</td><td>1.3</td><td>0.2</td><td>setosa</td></tr>\n",
              "\t<tr><th scope=row>4</th><td>4.6</td><td>3.1</td><td>1.5</td><td>0.2</td><td>setosa</td></tr>\n",
              "\t<tr><th scope=row>5</th><td>5.0</td><td>3.6</td><td>1.4</td><td>0.2</td><td>setosa</td></tr>\n",
              "\t<tr><th scope=row>6</th><td>5.4</td><td>3.9</td><td>1.7</td><td>0.4</td><td>setosa</td></tr>\n",
              "</tbody>\n",
              "</table>\n"
            ],
            "text/markdown": "\nA data.frame: 6 × 5\n\n| <!--/--> | Sepal.Length &lt;dbl&gt; | Sepal.Width &lt;dbl&gt; | Petal.Length &lt;dbl&gt; | Petal.Width &lt;dbl&gt; | Species &lt;fct&gt; |\n|---|---|---|---|---|---|\n| 1 | 5.1 | 3.5 | 1.4 | 0.2 | setosa |\n| 2 | 4.9 | 3.0 | 1.4 | 0.2 | setosa |\n| 3 | 4.7 | 3.2 | 1.3 | 0.2 | setosa |\n| 4 | 4.6 | 3.1 | 1.5 | 0.2 | setosa |\n| 5 | 5.0 | 3.6 | 1.4 | 0.2 | setosa |\n| 6 | 5.4 | 3.9 | 1.7 | 0.4 | setosa |\n\n",
            "text/latex": "A data.frame: 6 × 5\n\\begin{tabular}{r|lllll}\n  & Sepal.Length & Sepal.Width & Petal.Length & Petal.Width & Species\\\\\n  & <dbl> & <dbl> & <dbl> & <dbl> & <fct>\\\\\n\\hline\n\t1 & 5.1 & 3.5 & 1.4 & 0.2 & setosa\\\\\n\t2 & 4.9 & 3.0 & 1.4 & 0.2 & setosa\\\\\n\t3 & 4.7 & 3.2 & 1.3 & 0.2 & setosa\\\\\n\t4 & 4.6 & 3.1 & 1.5 & 0.2 & setosa\\\\\n\t5 & 5.0 & 3.6 & 1.4 & 0.2 & setosa\\\\\n\t6 & 5.4 & 3.9 & 1.7 & 0.4 & setosa\\\\\n\\end{tabular}\n",
            "text/plain": [
              "  Sepal.Length Sepal.Width Petal.Length Petal.Width Species\n",
              "1 5.1          3.5         1.4          0.2         setosa \n",
              "2 4.9          3.0         1.4          0.2         setosa \n",
              "3 4.7          3.2         1.3          0.2         setosa \n",
              "4 4.6          3.1         1.5          0.2         setosa \n",
              "5 5.0          3.6         1.4          0.2         setosa \n",
              "6 5.4          3.9         1.7          0.4         setosa "
            ]
          },
          "metadata": {}
        }
      ]
    },
    {
      "cell_type": "code",
      "source": [
        "plot(iris$Sepal.Length,iris$Petal.Length,col=iris$Species)"
      ],
      "metadata": {
        "colab": {
          "base_uri": "https://localhost:8080/",
          "height": 437
        },
        "id": "j1ogbxcers3Z",
        "outputId": "dda88ae0-a447-4138-8b54-2d35ade43dd2"
      },
      "execution_count": null,
      "outputs": [
        {
          "output_type": "display_data",
          "data": {
            "text/plain": [
              "plot without title"
            ],
            "image/png": "[encoded data removed]"
          },
          "metadata": {
            "image/png": {
              "width": 420,
              "height": 420
            }
          }
        }
      ]
    },
    {
      "cell_type": "code",
      "source": [
        "table(iris$Species)"
      ],
      "metadata": {
        "colab": {
          "base_uri": "https://localhost:8080/",
          "height": 69
        },
        "id": "uQVIur8DrxkR",
        "outputId": "41fdfe54-0fc2-4655-aa97-e2b2c5c5d5ff"
      },
      "execution_count": null,
      "outputs": [
        {
          "output_type": "display_data",
          "data": {
            "text/plain": [
              "\n",
              "    setosa versicolor  virginica \n",
              "        50         50         50 "
            ]
          },
          "metadata": {}
        }
      ]
    },
    {
      "cell_type": "code",
      "source": [
        "#pie(x, labels, radius, main, col, clockwise)\n",
        "pie(table(iris$Species),main=\"species pie chart\",col=c(\"green\",\"blue\",\"yellow\"),1)"
      ],
      "metadata": {
        "colab": {
          "base_uri": "https://localhost:8080/",
          "height": 437
        },
        "id": "nsLSxqTkr0Ah",
        "outputId": "e130ecb7-ea83-44bc-e066-6e24766105a7"
      },
      "execution_count": null,
      "outputs": [
        {
          "output_type": "display_data",
          "data": {
            "text/plain": [
              "Plot with title “species pie chart”"
            ],
            "image/png": "[encoded data removed]"
          },
          "metadata": {
            "image/png": {
              "width": 420,
              "height": 420
            }
          }
        }
      ]
    },
    {
      "cell_type": "code",
      "source": [
        "# Setup\n",
        "options(scipen=999)  # turn off scientific notation like 1e+06\n",
        "install.packages(\"ggplot2\")"
      ],
      "metadata": {
        "colab": {
          "base_uri": "https://localhost:8080/"
        },
        "id": "pvzGqvvA-fFZ",
        "outputId": "49d939bc-6072-43d9-9b31-7f7f460fcdc2"
      },
      "execution_count": 2,
      "outputs": [
        {
          "output_type": "stream",
          "name": "stderr",
          "text": [
            "Installing package into ‘/usr/local/lib/R/site-library’\n",
            "(as ‘lib’ is unspecified)\n",
            "\n"
          ]
        }
      ]
    },
    {
      "cell_type": "code",
      "source": [
        "library(ggplot2)"
      ],
      "metadata": {
        "id": "pEScU1Cq-6Z4"
      },
      "execution_count": 6,
      "outputs": []
    },
    {
      "cell_type": "code",
      "source": [
        "# run this cell to install two packages we will use today\n",
        "if (!require(gapminder)) install.packages(\"gapminder\")\n",
        "if (!require(ggrepel)) install.packages(\"ggrepel\")"
      ],
      "metadata": {
        "colab": {
          "base_uri": "https://localhost:8080/"
        },
        "id": "4ox1aadVvhyp",
        "outputId": "4ea4a9ce-7057-42e1-c959-b4b2b9561d33"
      },
      "execution_count": 8,
      "outputs": [
        {
          "output_type": "stream",
          "name": "stderr",
          "text": [
            "Loading required package: gapminder\n",
            "\n",
            "Warning message in library(package, lib.loc = lib.loc, character.only = TRUE, logical.return = TRUE, :\n",
            "“there is no package called ‘gapminder’”\n",
            "Installing package into ‘/usr/local/lib/R/site-library’\n",
            "(as ‘lib’ is unspecified)\n",
            "\n",
            "Loading required package: ggrepel\n",
            "\n",
            "Warning message in library(package, lib.loc = lib.loc, character.only = TRUE, logical.return = TRUE, :\n",
            "“there is no package called ‘ggrepel’”\n",
            "Installing package into ‘/usr/local/lib/R/site-library’\n",
            "(as ‘lib’ is unspecified)\n",
            "\n",
            "also installing the dependency ‘Rcpp’\n",
            "\n",
            "\n"
          ]
        }
      ]
    },
    {
      "cell_type": "code",
      "source": [
        "# for data manipulation\n",
        "library(dplyr)\n",
        "\n",
        "# the plotting package\n",
        "library(ggplot2)\n",
        "\n",
        "# gapminder contains the data we will use for our plot\n",
        "library(gapminder)"
      ],
      "metadata": {
        "colab": {
          "base_uri": "https://localhost:8080/"
        },
        "id": "mevlJF5CwN35",
        "outputId": "f4abbd8f-6c4d-4830-a0a1-f29a2ebeeadb"
      },
      "execution_count": 9,
      "outputs": [
        {
          "output_type": "stream",
          "name": "stderr",
          "text": [
            "\n",
            "Attaching package: ‘dplyr’\n",
            "\n",
            "\n",
            "The following objects are masked from ‘package:stats’:\n",
            "\n",
            "    filter, lag\n",
            "\n",
            "\n",
            "The following objects are masked from ‘package:base’:\n",
            "\n",
            "    intersect, setdiff, setequal, union\n",
            "\n",
            "\n"
          ]
        }
      ]
    },
    {
      "cell_type": "code",
      "source": [
        "head(gapminder)"
      ],
      "metadata": {
        "id": "9zG1Y_In_RrU",
        "colab": {
          "base_uri": "https://localhost:8080/",
          "height": 286
        },
        "outputId": "02cdd1c9-f2c0-41bb-ab7d-0fc537d73bd2"
      },
      "execution_count": 11,
      "outputs": [
        {
          "output_type": "display_data",
          "data": {
            "text/html": [
              "<table class=\"dataframe\">\n",
              "<caption>A tibble: 6 × 6</caption>\n",
              "<thead>\n",
              "\t<tr><th scope=col>country</th><th scope=col>continent</th><th scope=col>year</th><th scope=col>lifeExp</th><th scope=col>pop</th><th scope=col>gdpPercap</th></tr>\n",
              "\t<tr><th scope=col>&lt;fct&gt;</th><th scope=col>&lt;fct&gt;</th><th scope=col>&lt;int&gt;</th><th scope=col>&lt;dbl&gt;</th><th scope=col>&lt;int&gt;</th><th scope=col>&lt;dbl&gt;</th></tr>\n",
              "</thead>\n",
              "<tbody>\n",
              "\t<tr><td>Afghanistan</td><td>Asia</td><td>1952</td><td>28.801</td><td> 8425333</td><td>779.4453</td></tr>\n",
              "\t<tr><td>Afghanistan</td><td>Asia</td><td>1957</td><td>30.332</td><td> 9240934</td><td>820.8530</td></tr>\n",
              "\t<tr><td>Afghanistan</td><td>Asia</td><td>1962</td><td>31.997</td><td>10267083</td><td>853.1007</td></tr>\n",
              "\t<tr><td>Afghanistan</td><td>Asia</td><td>1967</td><td>34.020</td><td>11537966</td><td>836.1971</td></tr>\n",
              "\t<tr><td>Afghanistan</td><td>Asia</td><td>1972</td><td>36.088</td><td>13079460</td><td>739.9811</td></tr>\n",
              "\t<tr><td>Afghanistan</td><td>Asia</td><td>1977</td><td>38.438</td><td>14880372</td><td>786.1134</td></tr>\n",
              "</tbody>\n",
              "</table>\n"
            ],
            "text/markdown": "\nA tibble: 6 × 6\n\n| country &lt;fct&gt; | continent &lt;fct&gt; | year &lt;int&gt; | lifeExp &lt;dbl&gt; | pop &lt;int&gt; | gdpPercap &lt;dbl&gt; |\n|---|---|---|---|---|---|\n| Afghanistan | Asia | 1952 | 28.801 |  8425333 | 779.4453 |\n| Afghanistan | Asia | 1957 | 30.332 |  9240934 | 820.8530 |\n| Afghanistan | Asia | 1962 | 31.997 | 10267083 | 853.1007 |\n| Afghanistan | Asia | 1967 | 34.020 | 11537966 | 836.1971 |\n| Afghanistan | Asia | 1972 | 36.088 | 13079460 | 739.9811 |\n| Afghanistan | Asia | 1977 | 38.438 | 14880372 | 786.1134 |\n\n",
            "text/latex": "A tibble: 6 × 6\n\\begin{tabular}{llllll}\n country & continent & year & lifeExp & pop & gdpPercap\\\\\n <fct> & <fct> & <int> & <dbl> & <int> & <dbl>\\\\\n\\hline\n\t Afghanistan & Asia & 1952 & 28.801 &  8425333 & 779.4453\\\\\n\t Afghanistan & Asia & 1957 & 30.332 &  9240934 & 820.8530\\\\\n\t Afghanistan & Asia & 1962 & 31.997 & 10267083 & 853.1007\\\\\n\t Afghanistan & Asia & 1967 & 34.020 & 11537966 & 836.1971\\\\\n\t Afghanistan & Asia & 1972 & 36.088 & 13079460 & 739.9811\\\\\n\t Afghanistan & Asia & 1977 & 38.438 & 14880372 & 786.1134\\\\\n\\end{tabular}\n",
            "text/plain": [
              "  country     continent year lifeExp pop      gdpPercap\n",
              "1 Afghanistan Asia      1952 28.801   8425333 779.4453 \n",
              "2 Afghanistan Asia      1957 30.332   9240934 820.8530 \n",
              "3 Afghanistan Asia      1962 31.997  10267083 853.1007 \n",
              "4 Afghanistan Asia      1967 34.020  11537966 836.1971 \n",
              "5 Afghanistan Asia      1972 36.088  13079460 739.9811 \n",
              "6 Afghanistan Asia      1977 38.438  14880372 786.1134 "
            ]
          },
          "metadata": {}
        }
      ]
    },
    {
      "cell_type": "code",
      "source": [
        "str(gapminder)"
      ],
      "metadata": {
        "colab": {
          "base_uri": "https://localhost:8080/"
        },
        "id": "6iVgseWDwl54",
        "outputId": "55c684ed-f08b-4404-fe64-233d50945ba1"
      },
      "execution_count": 12,
      "outputs": [
        {
          "output_type": "stream",
          "name": "stdout",
          "text": [
            "tibble [1,704 × 6] (S3: tbl_df/tbl/data.frame)\n",
            " $ country  : Factor w/ 142 levels \"Afghanistan\",..: 1 1 1 1 1 1 1 1 1 1 ...\n",
            " $ continent: Factor w/ 5 levels \"Africa\",\"Americas\",..: 3 3 3 3 3 3 3 3 3 3 ...\n",
            " $ year     : int [1:1704] 1952 1957 1962 1967 1972 1977 1982 1987 1992 1997 ...\n",
            " $ lifeExp  : num [1:1704] 28.8 30.3 32 34 36.1 ...\n",
            " $ pop      : int [1:1704] 8425333 9240934 10267083 11537966 13079460 14880372 12881816 13867957 16317921 22227415 ...\n",
            " $ gdpPercap: num [1:1704] 779 821 853 836 740 ...\n"
          ]
        }
      ]
    },
    {
      "cell_type": "code",
      "source": [
        "summary(gapminder)"
      ],
      "metadata": {
        "colab": {
          "base_uri": "https://localhost:8080/",
          "height": 295
        },
        "id": "f59xLHtWwqnE",
        "outputId": "ff664f16-69cb-4480-cff6-4095b9995979"
      },
      "execution_count": 13,
      "outputs": [
        {
          "output_type": "display_data",
          "data": {
            "text/plain": [
              "        country        continent        year         lifeExp     \n",
              " Afghanistan:  12   Africa  :624   Min.   :1952   Min.   :23.60  \n",
              " Albania    :  12   Americas:300   1st Qu.:1966   1st Qu.:48.20  \n",
              " Algeria    :  12   Asia    :396   Median :1980   Median :60.71  \n",
              " Angola     :  12   Europe  :360   Mean   :1980   Mean   :59.47  \n",
              " Argentina  :  12   Oceania : 24   3rd Qu.:1993   3rd Qu.:70.85  \n",
              " Australia  :  12                  Max.   :2007   Max.   :82.60  \n",
              " (Other)    :1632                                                \n",
              "      pop               gdpPercap       \n",
              " Min.   :     60011   Min.   :   241.2  \n",
              " 1st Qu.:   2793664   1st Qu.:  1202.1  \n",
              " Median :   7023596   Median :  3531.8  \n",
              " Mean   :  29601212   Mean   :  7215.3  \n",
              " 3rd Qu.:  19585222   3rd Qu.:  9325.5  \n",
              " Max.   :1318683096   Max.   :113523.1  \n",
              "                                        "
            ]
          },
          "metadata": {}
        }
      ]
    },
    {
      "cell_type": "code",
      "source": [
        "ggplot(gapminder, aes(x=year, y=pop)) #ggplot(data,aes(x=,y=))+geom_point()"
      ],
      "metadata": {
        "colab": {
          "base_uri": "https://localhost:8080/",
          "height": 437
        },
        "id": "pEzwnCrFw89F",
        "outputId": "221af4d1-f69e-4624-d396-4ba8527f7527"
      },
      "execution_count": 15,
      "outputs": [
        {
          "output_type": "display_data",
          "data": {
            "text/plain": [
              "plot without title"
            ],
            "image/png": "[encoded data removed]"
          },
          "metadata": {
            "image/png": {
              "width": 420,
              "height": 420
            }
          }
        }
      ]
    },
    {
      "cell_type": "code",
      "source": [
        "ggplot(gapminder, aes(x=year, y=gdpPercap)) + geom_point() #scatterplot"
      ],
      "metadata": {
        "colab": {
          "base_uri": "https://localhost:8080/",
          "height": 437
        },
        "id": "s6KIQYC3xeo-",
        "outputId": "965be107-7747-418f-d35d-ee2fc2e3db9f"
      },
      "execution_count": 18,
      "outputs": [
        {
          "output_type": "display_data",
          "data": {
            "text/plain": [
              "plot without title"
            ],
            "image/png": "[encoded data removed]"
          },
          "metadata": {
            "image/png": {
              "width": 420,
              "height": 420
            }
          }
        }
      ]
    },
    {
      "cell_type": "code",
      "source": [
        "g <- ggplot(gapminder, aes(x=year, y=gdpPercap)) + geom_point() + geom_smooth(method=\"lm\",se=FALSE)\n",
        " # set se=FALSE to turnoff confidence bands\n",
        "plot(g)"
      ],
      "metadata": {
        "colab": {
          "base_uri": "https://localhost:8080/",
          "height": 454
        },
        "id": "usQSfFu0x9H1",
        "outputId": "f3a6859c-4682-4e7a-f997-2041ecae5122"
      },
      "execution_count": 19,
      "outputs": [
        {
          "output_type": "stream",
          "name": "stderr",
          "text": [
            "\u001b[1m\u001b[22m`geom_smooth()` using formula = 'y ~ x'\n"
          ]
        },
        {
          "output_type": "display_data",
          "data": {
            "text/plain": [
              "plot without title"
            ],
            "image/png": "[encoded data removed]"
          },
          "metadata": {
            "image/png": {
              "width": 420,
              "height": 420
            }
          }
        }
      ]
    },
    {
      "cell_type": "markdown",
      "source": [
        "Adjusting the X and Y axis limits"
      ],
      "metadata": {
        "id": "7tcseHTLALjo"
      }
    },
    {
      "cell_type": "code",
      "source": [
        "g <- ggplot(gapminder, aes(x=lifeExp, y=gdpPercap)) + geom_point() + geom_smooth(method=\"lm\",se=FALSE)  # set se=FALSE to turnoff confidence bands\n",
        "\n",
        "# Delete the points outside the limits\n",
        "g + xlim(c(0, 0.1)) + ylim(c(0, 1000))   # deletes points\n",
        "# g + xlim(0, 0.1) + ylim(0, 1000)   # deletes points"
      ],
      "metadata": {
        "colab": {
          "base_uri": "https://localhost:8080/",
          "height": 524
        },
        "id": "Vx-JRb18AMbF",
        "outputId": "0c854a69-f014-4ea5-d185-b89387de9db9"
      },
      "execution_count": 32,
      "outputs": [
        {
          "output_type": "stream",
          "name": "stderr",
          "text": [
            "\u001b[1m\u001b[22m`geom_smooth()` using formula = 'y ~ x'\n",
            "Warning message:\n",
            "“\u001b[1m\u001b[22mRemoved 1704 rows containing non-finite values (`stat_smooth()`).”\n",
            "Warning message:\n",
            "“\u001b[1m\u001b[22mRemoved 1704 rows containing missing values (`geom_point()`).”\n"
          ]
        },
        {
          "output_type": "display_data",
          "data": {
            "text/plain": [
              "plot without title"
            ],
            "image/png": "[encoded data removed]"
          },
          "metadata": {
            "image/png": {
              "width": 420,
              "height": 420
            }
          }
        }
      ]
    },
    {
      "cell_type": "markdown",
      "source": [
        "Method2: Zooming In"
      ],
      "metadata": {
        "id": "NUAoL2ksAsUs"
      }
    },
    {
      "cell_type": "code",
      "source": [
        "# Zoom in without deleting the points outside the limits.\n",
        "# As a result, the line of best fit is the same as the original plot.\n",
        "g1 <- g + coord_cartesian(xlim=c(0,0.1), ylim=c(0, 1000000))  # zooms in\n",
        "plot(g1)"
      ],
      "metadata": {
        "colab": {
          "base_uri": "https://localhost:8080/",
          "height": 454
        },
        "id": "zQhMAK3WAveq",
        "outputId": "41f3562d-a366-4430-eae0-1478354cb464"
      },
      "execution_count": 21,
      "outputs": [
        {
          "output_type": "stream",
          "name": "stderr",
          "text": [
            "\u001b[1m\u001b[22m`geom_smooth()` using formula = 'y ~ x'\n"
          ]
        },
        {
          "output_type": "display_data",
          "data": {
            "text/plain": [
              "plot without title"
            ],
            "image/png": "[encoded data removed]"
          },
          "metadata": {
            "image/png": {
              "width": 420,
              "height": 420
            }
          }
        }
      ]
    },
    {
      "cell_type": "markdown",
      "source": [
        "How to change the Title and Axis label"
      ],
      "metadata": {
        "id": "Iq69CueTA1tw"
      }
    },
    {
      "cell_type": "code",
      "source": [
        "g1 + labs(title=\"year Vs gdpPercap\",\n",
        "subtitle=\"From gapminder dataset\",\n",
        "y=\"gdPercap\",\n",
        "x=\"year\",\n",
        "caption=\"Gapminder Demographics\")\n"
      ],
      "metadata": {
        "colab": {
          "base_uri": "https://localhost:8080/",
          "height": 454
        },
        "id": "G1ifg4jvA40y",
        "outputId": "6c234e2e-0768-4cbe-fc4d-a6e67b7e9b9c"
      },
      "execution_count": 25,
      "outputs": [
        {
          "output_type": "stream",
          "name": "stderr",
          "text": [
            "\u001b[1m\u001b[22m`geom_smooth()` using formula = 'y ~ x'\n"
          ]
        },
        {
          "output_type": "display_data",
          "data": {
            "text/plain": [
              "plot without title"
            ],
            "image/png": "[encoded data removed]"
          },
          "metadata": {
            "image/png": {
              "width": 420,
              "height": 420
            }
          }
        }
      ]
    },
    {
      "cell_type": "code",
      "source": [
        "g1 + ggtitle(\"Year Vs gdpPercap\", subtitle=\"From gapminder dataset\") + xlab(\"year\") + ylab(\"gdPercap\")"
      ],
      "metadata": {
        "colab": {
          "base_uri": "https://localhost:8080/",
          "height": 454
        },
        "id": "ipFUEtsDBSo4",
        "outputId": "04fee3fe-d912-4dc9-975e-ebf55786f50e"
      },
      "execution_count": 26,
      "outputs": [
        {
          "output_type": "stream",
          "name": "stderr",
          "text": [
            "\u001b[1m\u001b[22m`geom_smooth()` using formula = 'y ~ x'\n"
          ]
        },
        {
          "output_type": "display_data",
          "data": {
            "text/plain": [
              "plot without title"
            ],
            "image/png": "[encoded data removed]"
          },
          "metadata": {
            "image/png": {
              "width": 420,
              "height": 420
            }
          }
        }
      ]
    },
    {
      "cell_type": "code",
      "source": [
        "ggplot(gapminder, aes(x=year, y=gdPercap)) +\n",
        "  geom_point() +\n",
        "  geom_smooth(method=\"lm\") +\n",
        "  coord_cartesian(xlim=c(0,0.1), ylim=c(0, 1000000)) +\n",
        "  labs(title=\"year Vs gdPercap\",\n",
        "  subtitle=\"From gapminder dataset\",\n",
        "  y=\"gdPercap\",\n",
        "  x=\"year\",\n",
        "  caption=\"Gapminder Demographics\")"
      ],
      "metadata": {
        "colab": {
          "base_uri": "https://localhost:8080/"
        },
        "id": "cdCHpPqFB9dU",
        "outputId": "5916fa01-ce6e-48fa-af8c-2ddb9568757e"
      },
      "execution_count": 33,
      "outputs": [
        {
          "output_type": "stream",
          "name": "stderr",
          "text": [
            "ERROR while rich displaying an object: \u001b[1m\u001b[33mError\u001b[39m in `geom_point()`:\u001b[22m\n",
            "\u001b[1m\u001b[22m\u001b[33m!\u001b[39m Problem while computing aesthetics.\n",
            "\u001b[36mℹ\u001b[39m Error occurred in the 1st layer.\n",
            "\u001b[1mCaused by error:\u001b[22m\n",
            "\u001b[33m!\u001b[39m object 'gdPercap' not found\n",
            "\n",
            "Traceback:\n",
            "1. tryCatch(withCallingHandlers({\n",
            " .     if (!mime %in% names(repr::mime2repr)) \n",
            " .         stop(\"No repr_* for mimetype \", mime, \" in repr::mime2repr\")\n",
            " .     rpr <- repr::mime2repr[[mime]](obj)\n",
            " .     if (is.null(rpr)) \n",
            " .         return(NULL)\n",
            " .     prepare_content(is.raw(rpr), rpr)\n",
            " . }, error = error_handler), error = outer_handler)\n",
            "2. tryCatchList(expr, classes, parentenv, handlers)\n",
            "3. tryCatchOne(expr, names, parentenv, handlers[[1L]])\n",
            "4. doTryCatch(return(expr), name, parentenv, handler)\n",
            "5. withCallingHandlers({\n",
            " .     if (!mime %in% names(repr::mime2repr)) \n",
            " .         stop(\"No repr_* for mimetype \", mime, \" in repr::mime2repr\")\n",
            " .     rpr <- repr::mime2repr[[mime]](obj)\n",
            " .     if (is.null(rpr)) \n",
            " .         return(NULL)\n",
            " .     prepare_content(is.raw(rpr), rpr)\n",
            " . }, error = error_handler)\n",
            "6. repr::mime2repr[[mime]](obj)\n",
            "7. repr_text.default(obj)\n",
            "8. paste(capture.output(print(obj)), collapse = \"\\n\")\n",
            "9. capture.output(print(obj))\n",
            "10. withVisible(...elt(i))\n",
            "11. print(obj)\n",
            "12. print.ggplot(obj)\n",
            "13. ggplot_build(x)\n",
            "14. ggplot_build.ggplot(x)\n",
            "15. by_layer(function(l, d) l$compute_aesthetics(d, plot), layers, \n",
            "  .     data, \"computing aesthetics\")\n",
            "16. try_fetch(for (i in seq_along(data)) {\n",
            "  .     out[[i]] <- f(l = layers[[i]], d = data[[i]])\n",
            "  . }, error = function(cnd) {\n",
            "  .     cli::cli_abort(c(\"Problem while {step}.\", i = \"Error occurred in the {ordinal(i)} layer.\"), \n",
            "  .         call = layers[[i]]$constructor, parent = cnd)\n",
            "  . })\n",
            "17. tryCatch(withCallingHandlers(expr, condition = function(cnd) {\n",
            "  .     {\n",
            "  .         .__handler_frame__. <- TRUE\n",
            "  .         .__setup_frame__. <- frame\n",
            "  .         if (inherits(cnd, \"message\")) {\n",
            "  .             except <- c(\"warning\", \"error\")\n",
            "  .         }\n",
            "  .         else if (inherits(cnd, \"warning\")) {\n",
            "  .             except <- \"error\"\n",
            "  .         }\n",
            "  .         else {\n",
            "  .             except <- \"\"\n",
            "  .         }\n",
            "  .     }\n",
            "  .     while (!is_null(cnd)) {\n",
            "  .         if (inherits(cnd, \"error\")) {\n",
            "  .             out <- handlers[[1L]](cnd)\n",
            "  .             if (!inherits(out, \"rlang_zap\")) \n",
            "  .                 throw(out)\n",
            "  .         }\n",
            "  .         inherit <- .subset2(.subset2(cnd, \"rlang\"), \"inherit\")\n",
            "  .         if (is_false(inherit)) {\n",
            "  .             return()\n",
            "  .         }\n",
            "  .         cnd <- .subset2(cnd, \"parent\")\n",
            "  .     }\n",
            "  . }), stackOverflowError = handlers[[1L]])\n",
            "18. tryCatchList(expr, classes, parentenv, handlers)\n",
            "19. tryCatchOne(expr, names, parentenv, handlers[[1L]])\n",
            "20. doTryCatch(return(expr), name, parentenv, handler)\n",
            "21. withCallingHandlers(expr, condition = function(cnd) {\n",
            "  .     {\n",
            "  .         .__handler_frame__. <- TRUE\n",
            "  .         .__setup_frame__. <- frame\n",
            "  .         if (inherits(cnd, \"message\")) {\n",
            "  .             except <- c(\"warning\", \"error\")\n",
            "  .         }\n",
            "  .         else if (inherits(cnd, \"warning\")) {\n",
            "  .             except <- \"error\"\n",
            "  .         }\n",
            "  .         else {\n",
            "  .             except <- \"\"\n",
            "  .         }\n",
            "  .     }\n",
            "  .     while (!is_null(cnd)) {\n",
            "  .         if (inherits(cnd, \"error\")) {\n",
            "  .             out <- handlers[[1L]](cnd)\n",
            "  .             if (!inherits(out, \"rlang_zap\")) \n",
            "  .                 throw(out)\n",
            "  .         }\n",
            "  .         inherit <- .subset2(.subset2(cnd, \"rlang\"), \"inherit\")\n",
            "  .         if (is_false(inherit)) {\n",
            "  .             return()\n",
            "  .         }\n",
            "  .         cnd <- .subset2(cnd, \"parent\")\n",
            "  .     }\n",
            "  . })\n",
            "22. f(l = layers[[i]], d = data[[i]])\n",
            "23. l$compute_aesthetics(d, plot)\n",
            "24. compute_aesthetics(..., self = self)\n",
            "25. scales_add_defaults(plot$scales, data, aesthetics, plot$plot_env)\n",
            "26. lapply(aesthetics[new_aesthetics], eval_tidy, data = data)\n",
            "27. FUN(X[[i]], ...)\n",
            "28. .handleSimpleError(function (cnd) \n",
            "  . {\n",
            "  .     {\n",
            "  .         .__handler_frame__. <- TRUE\n",
            "  .         .__setup_frame__. <- frame\n",
            "  .         if (inherits(cnd, \"message\")) {\n",
            "  .             except <- c(\"warning\", \"error\")\n",
            "  .         }\n",
            "  .         else if (inherits(cnd, \"warning\")) {\n",
            "  .             except <- \"error\"\n",
            "  .         }\n",
            "  .         else {\n",
            "  .             except <- \"\"\n",
            "  .         }\n",
            "  .     }\n",
            "  .     while (!is_null(cnd)) {\n",
            "  .         if (inherits(cnd, \"error\")) {\n",
            "  .             out <- handlers[[1L]](cnd)\n",
            "  .             if (!inherits(out, \"rlang_zap\")) \n",
            "  .                 throw(out)\n",
            "  .         }\n",
            "  .         inherit <- .subset2(.subset2(cnd, \"rlang\"), \"inherit\")\n",
            "  .         if (is_false(inherit)) {\n",
            "  .             return()\n",
            "  .         }\n",
            "  .         cnd <- .subset2(cnd, \"parent\")\n",
            "  .     }\n",
            "  . }, \"object 'gdPercap' not found\", base::quote(NULL))\n",
            "29. h(simpleError(msg, call))\n",
            "30. handlers[[1L]](cnd)\n",
            "31. cli::cli_abort(c(\"Problem while {step}.\", i = \"Error occurred in the {ordinal(i)} layer.\"), \n",
            "  .     call = layers[[i]]$constructor, parent = cnd)\n",
            "32. rlang::abort(message, ..., call = call, use_cli_format = TRUE, \n",
            "  .     .frame = .frame)\n",
            "33. signal_abort(cnd, .file)\n"
          ]
        }
      ]
    }
  ]
}